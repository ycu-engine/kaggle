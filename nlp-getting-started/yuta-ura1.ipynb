{
  "nbformat": 4,
  "nbformat_minor": 0,
  "metadata": {
    "colab": {
      "name": "災害ツイート1.ipynb",
      "provenance": [],
      "collapsed_sections": [],
      "toc_visible": true,
      "authorship_tag": "ABX9TyM4PDtPEKhdBZXxc2Pp4VaM",
      "include_colab_link": true
    },
    "kernelspec": {
      "display_name": "Python 3",
      "name": "python3"
    }
  },
  "cells": [
    {
      "cell_type": "markdown",
      "metadata": {
        "id": "view-in-github",
        "colab_type": "text"
      },
      "source": [
        "<a href=\"https://colab.research.google.com/github/ycu-engine/kaggle/blob/main/nlp-getting-started/yuta-ura1.ipynb\" target=\"_parent\"><img src=\"https://colab.research.google.com/assets/colab-badge.svg\" alt=\"Open In Colab\"/></a>"
      ]
    },
    {
      "cell_type": "markdown",
      "metadata": {
        "id": "o9tHw4I7cVem"
      },
      "source": [
        "# Kaggleセットアップ"
      ]
    },
    {
      "cell_type": "markdown",
      "metadata": {
        "id": "E2Eqr6x7chMS"
      },
      "source": [
        "1. KaggleのAPIキーのアップロードをする"
      ]
    },
    {
      "cell_type": "code",
      "metadata": {
        "colab": {
          "resources": {
            "http://localhost:8080/nbextensions/google.colab/files.js": {
              "data": "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",
              "headers": [
                [
                  "content-type",
                  "application/javascript"
                ]
              ],
              "ok": true,
              "status": 200,
              "status_text": ""
            }
          },
          "base_uri": "https://localhost:8080/",
          "height": 95
        },
        "id": "wORKCkEQb5pC",
        "outputId": "4c6f7eda-62ae-421d-a138-2442faed6069"
      },
      "source": [
        "from google.colab import files\n",
        "files.upload()\n"
      ],
      "execution_count": null,
      "outputs": [
        {
          "output_type": "display_data",
          "data": {
            "text/html": [
              "\n",
              "     <input type=\"file\" id=\"files-98c91bad-99ed-4e3f-a41d-daba0b1371ec\" name=\"files[]\" multiple disabled\n",
              "        style=\"border:none\" />\n",
              "     <output id=\"result-98c91bad-99ed-4e3f-a41d-daba0b1371ec\">\n",
              "      Upload widget is only available when the cell has been executed in the\n",
              "      current browser session. Please rerun this cell to enable.\n",
              "      </output>\n",
              "      <script src=\"/nbextensions/google.colab/files.js\"></script> "
            ],
            "text/plain": [
              "<IPython.core.display.HTML object>"
            ]
          },
          "metadata": {
            "tags": []
          }
        },
        {
          "output_type": "stream",
          "text": [
            "Saving kaggle.json to kaggle.json\n"
          ],
          "name": "stdout"
        },
        {
          "output_type": "execute_result",
          "data": {
            "text/plain": [
              "{'kaggle.json': b'{\"username\":\"yuutaura\",\"key\":\"892b29d8bbf181424abe2b1596c94ccb\"}'}"
            ]
          },
          "metadata": {
            "tags": []
          },
          "execution_count": 1
        }
      ]
    },
    {
      "cell_type": "markdown",
      "metadata": {
        "id": "PtVDASLicmMN"
      },
      "source": [
        "2. Pathの設定"
      ]
    },
    {
      "cell_type": "code",
      "metadata": {
        "id": "mj3k2UlEcUv6"
      },
      "source": [
        "!mkdir -p ~/.kaggle\n",
        "!chmod 600 kaggle.json\n",
        "!cp kaggle.json ~/.kaggle/"
      ],
      "execution_count": null,
      "outputs": []
    },
    {
      "cell_type": "markdown",
      "metadata": {
        "id": "feftlUvRcyRi"
      },
      "source": [
        "3. kaggleライブラリのインストール"
      ]
    },
    {
      "cell_type": "code",
      "metadata": {
        "colab": {
          "base_uri": "https://localhost:8080/"
        },
        "id": "tQDfbiaycwS6",
        "outputId": "2f96d8ad-d8c5-429b-a427-36c252c20fe2"
      },
      "source": [
        "!pip install kaggle"
      ],
      "execution_count": null,
      "outputs": [
        {
          "output_type": "stream",
          "text": [
            "Requirement already satisfied: kaggle in /usr/local/lib/python3.7/dist-packages (1.5.10)\n",
            "Requirement already satisfied: tqdm in /usr/local/lib/python3.7/dist-packages (from kaggle) (4.41.1)\n",
            "Requirement already satisfied: python-slugify in /usr/local/lib/python3.7/dist-packages (from kaggle) (4.0.1)\n",
            "Requirement already satisfied: certifi in /usr/local/lib/python3.7/dist-packages (from kaggle) (2020.12.5)\n",
            "Requirement already satisfied: python-dateutil in /usr/local/lib/python3.7/dist-packages (from kaggle) (2.8.1)\n",
            "Requirement already satisfied: requests in /usr/local/lib/python3.7/dist-packages (from kaggle) (2.23.0)\n",
            "Requirement already satisfied: six>=1.10 in /usr/local/lib/python3.7/dist-packages (from kaggle) (1.15.0)\n",
            "Requirement already satisfied: urllib3 in /usr/local/lib/python3.7/dist-packages (from kaggle) (1.24.3)\n",
            "Requirement already satisfied: text-unidecode>=1.3 in /usr/local/lib/python3.7/dist-packages (from python-slugify->kaggle) (1.3)\n",
            "Requirement already satisfied: idna<3,>=2.5 in /usr/local/lib/python3.7/dist-packages (from requests->kaggle) (2.10)\n",
            "Requirement already satisfied: chardet<4,>=3.0.2 in /usr/local/lib/python3.7/dist-packages (from requests->kaggle) (3.0.4)\n"
          ],
          "name": "stdout"
        }
      ]
    },
    {
      "cell_type": "markdown",
      "metadata": {
        "id": "WYiG5t3gdP8m"
      },
      "source": [
        "## データセットのダウンロード"
      ]
    },
    {
      "cell_type": "code",
      "metadata": {
        "colab": {
          "base_uri": "https://localhost:8080/"
        },
        "id": "W3SQI4OOc3KD",
        "outputId": "e6af6af9-648a-4516-df8f-d86daa2cdfc0"
      },
      "source": [
        "!kaggle competitions download -c nlp-getting-started"
      ],
      "execution_count": null,
      "outputs": [
        {
          "output_type": "stream",
          "text": [
            "Warning: Looks like you're using an outdated API Version, please consider updating (server 1.5.12 / client 1.5.4)\n",
            "Downloading train.csv to /content\n",
            "  0% 0.00/965k [00:00<?, ?B/s]\n",
            "100% 965k/965k [00:00<00:00, 65.4MB/s]\n",
            "Downloading sample_submission.csv to /content\n",
            "  0% 0.00/22.2k [00:00<?, ?B/s]\n",
            "100% 22.2k/22.2k [00:00<00:00, 17.5MB/s]\n",
            "Downloading test.csv to /content\n",
            "  0% 0.00/411k [00:00<?, ?B/s]\n",
            "100% 411k/411k [00:00<00:00, 132MB/s]\n"
          ],
          "name": "stdout"
        }
      ]
    },
    {
      "cell_type": "code",
      "metadata": {
        "colab": {
          "base_uri": "https://localhost:8080/"
        },
        "id": "cEEIwN26dSbZ",
        "outputId": "d89b1efb-fd7d-400f-9a94-6f332f7c4821"
      },
      "source": [
        "!ls"
      ],
      "execution_count": null,
      "outputs": [
        {
          "output_type": "stream",
          "text": [
            "kaggle.json  sample_data  sample_submission.csv  test.csv  train.csv\n"
          ],
          "name": "stdout"
        }
      ]
    },
    {
      "cell_type": "markdown",
      "metadata": {
        "id": "pYix7j-Sdbh0"
      },
      "source": [
        "# 基礎分析"
      ]
    },
    {
      "cell_type": "markdown",
      "metadata": {
        "id": "XACC6LcDder8"
      },
      "source": [
        "## ライブラリのimport"
      ]
    },
    {
      "cell_type": "code",
      "metadata": {
        "id": "yxgIsJ3xdUu1"
      },
      "source": [
        "# 統計処理\n",
        "import numpy as np\n",
        "import pandas as pd\n",
        "\n",
        "# 可視化\n",
        "import matplotlib.pyplot as plt\n",
        "import seaborn as sns\n",
        "\n",
        "sns.set()\n",
        "%matplotlib inline\n",
        " "
      ],
      "execution_count": null,
      "outputs": []
    },
    {
      "cell_type": "markdown",
      "metadata": {
        "id": "hP0d6ScPdm7-"
      },
      "source": [
        "## データの読み込み"
      ]
    },
    {
      "cell_type": "code",
      "metadata": {
        "colab": {
          "base_uri": "https://localhost:8080/",
          "height": 204
        },
        "id": "jvSknixddmsJ",
        "outputId": "9360bae6-9693-49bf-ae29-3cd89c319031"
      },
      "source": [
        "train = pd.read_csv('./train.csv')\n",
        "test = pd.read_csv('./test.csv')\n",
        "\n",
        "train.head()"
      ],
      "execution_count": null,
      "outputs": [
        {
          "output_type": "execute_result",
          "data": {
            "text/html": [
              "<div>\n",
              "<style scoped>\n",
              "    .dataframe tbody tr th:only-of-type {\n",
              "        vertical-align: middle;\n",
              "    }\n",
              "\n",
              "    .dataframe tbody tr th {\n",
              "        vertical-align: top;\n",
              "    }\n",
              "\n",
              "    .dataframe thead th {\n",
              "        text-align: right;\n",
              "    }\n",
              "</style>\n",
              "<table border=\"1\" class=\"dataframe\">\n",
              "  <thead>\n",
              "    <tr style=\"text-align: right;\">\n",
              "      <th></th>\n",
              "      <th>id</th>\n",
              "      <th>keyword</th>\n",
              "      <th>location</th>\n",
              "      <th>text</th>\n",
              "      <th>target</th>\n",
              "    </tr>\n",
              "  </thead>\n",
              "  <tbody>\n",
              "    <tr>\n",
              "      <th>0</th>\n",
              "      <td>1</td>\n",
              "      <td>NaN</td>\n",
              "      <td>NaN</td>\n",
              "      <td>Our Deeds are the Reason of this #earthquake M...</td>\n",
              "      <td>1</td>\n",
              "    </tr>\n",
              "    <tr>\n",
              "      <th>1</th>\n",
              "      <td>4</td>\n",
              "      <td>NaN</td>\n",
              "      <td>NaN</td>\n",
              "      <td>Forest fire near La Ronge Sask. Canada</td>\n",
              "      <td>1</td>\n",
              "    </tr>\n",
              "    <tr>\n",
              "      <th>2</th>\n",
              "      <td>5</td>\n",
              "      <td>NaN</td>\n",
              "      <td>NaN</td>\n",
              "      <td>All residents asked to 'shelter in place' are ...</td>\n",
              "      <td>1</td>\n",
              "    </tr>\n",
              "    <tr>\n",
              "      <th>3</th>\n",
              "      <td>6</td>\n",
              "      <td>NaN</td>\n",
              "      <td>NaN</td>\n",
              "      <td>13,000 people receive #wildfires evacuation or...</td>\n",
              "      <td>1</td>\n",
              "    </tr>\n",
              "    <tr>\n",
              "      <th>4</th>\n",
              "      <td>7</td>\n",
              "      <td>NaN</td>\n",
              "      <td>NaN</td>\n",
              "      <td>Just got sent this photo from Ruby #Alaska as ...</td>\n",
              "      <td>1</td>\n",
              "    </tr>\n",
              "  </tbody>\n",
              "</table>\n",
              "</div>"
            ],
            "text/plain": [
              "   id keyword  ...                                               text target\n",
              "0   1     NaN  ...  Our Deeds are the Reason of this #earthquake M...      1\n",
              "1   4     NaN  ...             Forest fire near La Ronge Sask. Canada      1\n",
              "2   5     NaN  ...  All residents asked to 'shelter in place' are ...      1\n",
              "3   6     NaN  ...  13,000 people receive #wildfires evacuation or...      1\n",
              "4   7     NaN  ...  Just got sent this photo from Ruby #Alaska as ...      1\n",
              "\n",
              "[5 rows x 5 columns]"
            ]
          },
          "metadata": {
            "tags": []
          },
          "execution_count": 6
        }
      ]
    },
    {
      "cell_type": "markdown",
      "metadata": {
        "id": "8LHxvXJedyPW"
      },
      "source": [
        "## 基本統計量の確認"
      ]
    },
    {
      "cell_type": "markdown",
      "metadata": {
        "id": "uK6T0AQRd03b"
      },
      "source": [
        "## データ数"
      ]
    },
    {
      "cell_type": "code",
      "metadata": {
        "colab": {
          "base_uri": "https://localhost:8080/"
        },
        "id": "vKiheYBbdlds",
        "outputId": "bc99df72-e9da-4ccc-fe1a-e803de067843"
      },
      "source": [
        "print(f'train: {len(train)}\\n', train.count())\n",
        "print(f'\\ntest: {len(test)}\\n', test.count())"
      ],
      "execution_count": null,
      "outputs": [
        {
          "output_type": "stream",
          "text": [
            "train: 7613\n",
            " id          7613\n",
            "keyword     7552\n",
            "location    5080\n",
            "text        7613\n",
            "target      7613\n",
            "dtype: int64\n",
            "\n",
            "test: 3263\n",
            " id          3263\n",
            "keyword     3237\n",
            "location    2158\n",
            "text        3263\n",
            "dtype: int64\n"
          ],
          "name": "stdout"
        }
      ]
    },
    {
      "cell_type": "markdown",
      "metadata": {
        "id": "oiQRT-PteVAc"
      },
      "source": [
        "- `id`には欠損なし\n",
        "- `keyword`は1%程度欠損\n",
        "- `location`は33%程度欠損\n",
        "- `text`は欠損なし\n",
        "- `target`は欠損なし"
      ]
    },
    {
      "cell_type": "markdown",
      "metadata": {
        "id": "TlZzoHJKfLMc"
      },
      "source": [
        "## 目的変数の確認"
      ]
    },
    {
      "cell_type": "code",
      "metadata": {
        "colab": {
          "base_uri": "https://localhost:8080/",
          "height": 285
        },
        "id": "jB38GLWOeEE_",
        "outputId": "8ad8ad33-344f-4fa3-c354-d0da825104ab"
      },
      "source": [
        "train.target.hist()"
      ],
      "execution_count": null,
      "outputs": [
        {
          "output_type": "execute_result",
          "data": {
            "text/plain": [
              "<matplotlib.axes._subplots.AxesSubplot at 0x7f9b4cbe7750>"
            ]
          },
          "metadata": {
            "tags": []
          },
          "execution_count": 8
        },
        {
          "output_type": "display_data",
          "data": {
            "image/png": "[encoded data removed]",
            "text/plain": [
              "<Figure size 432x288 with 1 Axes>"
            ]
          },
          "metadata": {
            "tags": []
          }
        }
      ]
    },
    {
      "cell_type": "markdown",
      "metadata": {
        "id": "AGVfrnfDg3wI"
      },
      "source": [
        "`target = 0`の方が多いが、極端な差はない。"
      ]
    },
    {
      "cell_type": "markdown",
      "metadata": {
        "id": "pLP3LkouhNfP"
      },
      "source": [
        "## keywordの確認"
      ]
    },
    {
      "cell_type": "code",
      "metadata": {
        "colab": {
          "base_uri": "https://localhost:8080/"
        },
        "id": "v3jyNrt5eSjF",
        "outputId": "d387be41-64a9-4eff-a25e-93d9bd67b5a1"
      },
      "source": [
        "train.keyword.unique()"
      ],
      "execution_count": null,
      "outputs": [
        {
          "output_type": "execute_result",
          "data": {
            "text/plain": [
              "array([nan, 'ablaze', 'accident', 'aftershock', 'airplane%20accident',\n",
              "       'ambulance', 'annihilated', 'annihilation', 'apocalypse',\n",
              "       'armageddon', 'army', 'arson', 'arsonist', 'attack', 'attacked',\n",
              "       'avalanche', 'battle', 'bioterror', 'bioterrorism', 'blaze',\n",
              "       'blazing', 'bleeding', 'blew%20up', 'blight', 'blizzard', 'blood',\n",
              "       'bloody', 'blown%20up', 'body%20bag', 'body%20bagging',\n",
              "       'body%20bags', 'bomb', 'bombed', 'bombing', 'bridge%20collapse',\n",
              "       'buildings%20burning', 'buildings%20on%20fire', 'burned',\n",
              "       'burning', 'burning%20buildings', 'bush%20fires', 'casualties',\n",
              "       'casualty', 'catastrophe', 'catastrophic', 'chemical%20emergency',\n",
              "       'cliff%20fall', 'collapse', 'collapsed', 'collide', 'collided',\n",
              "       'collision', 'crash', 'crashed', 'crush', 'crushed', 'curfew',\n",
              "       'cyclone', 'damage', 'danger', 'dead', 'death', 'deaths', 'debris',\n",
              "       'deluge', 'deluged', 'demolish', 'demolished', 'demolition',\n",
              "       'derail', 'derailed', 'derailment', 'desolate', 'desolation',\n",
              "       'destroy', 'destroyed', 'destruction', 'detonate', 'detonation',\n",
              "       'devastated', 'devastation', 'disaster', 'displaced', 'drought',\n",
              "       'drown', 'drowned', 'drowning', 'dust%20storm', 'earthquake',\n",
              "       'electrocute', 'electrocuted', 'emergency', 'emergency%20plan',\n",
              "       'emergency%20services', 'engulfed', 'epicentre', 'evacuate',\n",
              "       'evacuated', 'evacuation', 'explode', 'exploded', 'explosion',\n",
              "       'eyewitness', 'famine', 'fatal', 'fatalities', 'fatality', 'fear',\n",
              "       'fire', 'fire%20truck', 'first%20responders', 'flames',\n",
              "       'flattened', 'flood', 'flooding', 'floods', 'forest%20fire',\n",
              "       'forest%20fires', 'hail', 'hailstorm', 'harm', 'hazard',\n",
              "       'hazardous', 'heat%20wave', 'hellfire', 'hijack', 'hijacker',\n",
              "       'hijacking', 'hostage', 'hostages', 'hurricane', 'injured',\n",
              "       'injuries', 'injury', 'inundated', 'inundation', 'landslide',\n",
              "       'lava', 'lightning', 'loud%20bang', 'mass%20murder',\n",
              "       'mass%20murderer', 'massacre', 'mayhem', 'meltdown', 'military',\n",
              "       'mudslide', 'natural%20disaster', 'nuclear%20disaster',\n",
              "       'nuclear%20reactor', 'obliterate', 'obliterated', 'obliteration',\n",
              "       'oil%20spill', 'outbreak', 'pandemonium', 'panic', 'panicking',\n",
              "       'police', 'quarantine', 'quarantined', 'radiation%20emergency',\n",
              "       'rainstorm', 'razed', 'refugees', 'rescue', 'rescued', 'rescuers',\n",
              "       'riot', 'rioting', 'rubble', 'ruin', 'sandstorm', 'screamed',\n",
              "       'screaming', 'screams', 'seismic', 'sinkhole', 'sinking', 'siren',\n",
              "       'sirens', 'smoke', 'snowstorm', 'storm', 'stretcher',\n",
              "       'structural%20failure', 'suicide%20bomb', 'suicide%20bomber',\n",
              "       'suicide%20bombing', 'sunk', 'survive', 'survived', 'survivors',\n",
              "       'terrorism', 'terrorist', 'threat', 'thunder', 'thunderstorm',\n",
              "       'tornado', 'tragedy', 'trapped', 'trauma', 'traumatised',\n",
              "       'trouble', 'tsunami', 'twister', 'typhoon', 'upheaval',\n",
              "       'violent%20storm', 'volcano', 'war%20zone', 'weapon', 'weapons',\n",
              "       'whirlwind', 'wild%20fires', 'wildfire', 'windstorm', 'wounded',\n",
              "       'wounds', 'wreck', 'wreckage', 'wrecked'], dtype=object)"
            ]
          },
          "metadata": {
            "tags": []
          },
          "execution_count": 9
        }
      ]
    },
    {
      "cell_type": "markdown",
      "metadata": {
        "id": "DfXHl2zlh3e0"
      },
      "source": [
        "いろいろ種類があるが、中に`%20`がある。\n",
        "\n",
        "これは空白をURLエンコードしたものなので、複数のキーワードを持っているということになる。"
      ]
    },
    {
      "cell_type": "code",
      "metadata": {
        "id": "KNPJQutDhSx1"
      },
      "source": [
        "import typing as t\n",
        "\n",
        "def split_keyword(keyword: str) -> t.List[str]:\n",
        "    return keyword.split('%20') if keyword else []"
      ],
      "execution_count": null,
      "outputs": []
    },
    {
      "cell_type": "code",
      "metadata": {
        "colab": {
          "base_uri": "https://localhost:8080/",
          "height": 285
        },
        "id": "W5WqszNGiMiF",
        "outputId": "d0209ee7-108a-4f14-bbec-ac0fd46a1027"
      },
      "source": [
        "train.keyword.fillna('').apply(split_keyword).apply(lambda array: len(array)).hist()"
      ],
      "execution_count": null,
      "outputs": [
        {
          "output_type": "execute_result",
          "data": {
            "text/plain": [
              "<matplotlib.axes._subplots.AxesSubplot at 0x7f9b4c0eb890>"
            ]
          },
          "metadata": {
            "tags": []
          },
          "execution_count": 11
        },
        {
          "output_type": "display_data",
          "data": {
            "image/png": "[encoded data removed]",
            "text/plain": [
              "<Figure size 432x288 with 1 Axes>"
            ]
          },
          "metadata": {
            "tags": []
          }
        }
      ]
    },
    {
      "cell_type": "markdown",
      "metadata": {
        "id": "uG1OSTgmjeMN"
      },
      "source": [
        "`keyword`はほとんどが1でごく稀に０個、十数％が2つとなっている。\n",
        "\n",
        "`keyword`の個数と`target`の関係を見てみる"
      ]
    },
    {
      "cell_type": "code",
      "metadata": {
        "colab": {
          "base_uri": "https://localhost:8080/",
          "height": 505
        },
        "id": "tSdpDChrj4JE",
        "outputId": "bbfa0e60-73d2-4b99-8a92-0b8ed00d1aac"
      },
      "source": [
        "print('個数')\n",
        "display(pd.crosstab(train.target, train.keyword.fillna('').apply(split_keyword).apply(lambda array: len(array))))\n",
        "\n",
        "print('ターゲット内の割合(%)')\n",
        "display(pd.crosstab(train.target, train.keyword.fillna('').apply(split_keyword).apply(lambda array: len(array)), normalize='index').round(4)*100)\n",
        "\n",
        "print('キーワードの割合(%)')\n",
        "display(pd.crosstab(train.keyword.fillna('').apply(split_keyword).apply(lambda array: len(array)), train.target, normalize='index').round(4)*100)"
      ],
      "execution_count": null,
      "outputs": [
        {
          "output_type": "stream",
          "text": [
            "個数\n"
          ],
          "name": "stdout"
        },
        {
          "output_type": "display_data",
          "data": {
            "text/html": [
              "<div>\n",
              "<style scoped>\n",
              "    .dataframe tbody tr th:only-of-type {\n",
              "        vertical-align: middle;\n",
              "    }\n",
              "\n",
              "    .dataframe tbody tr th {\n",
              "        vertical-align: top;\n",
              "    }\n",
              "\n",
              "    .dataframe thead th {\n",
              "        text-align: right;\n",
              "    }\n",
              "</style>\n",
              "<table border=\"1\" class=\"dataframe\">\n",
              "  <thead>\n",
              "    <tr style=\"text-align: right;\">\n",
              "      <th>keyword</th>\n",
              "      <th>0</th>\n",
              "      <th>1</th>\n",
              "      <th>2</th>\n",
              "      <th>3</th>\n",
              "    </tr>\n",
              "    <tr>\n",
              "      <th>target</th>\n",
              "      <th></th>\n",
              "      <th></th>\n",
              "      <th></th>\n",
              "      <th></th>\n",
              "    </tr>\n",
              "  </thead>\n",
              "  <tbody>\n",
              "    <tr>\n",
              "      <th>0</th>\n",
              "      <td>19</td>\n",
              "      <td>3838</td>\n",
              "      <td>480</td>\n",
              "      <td>5</td>\n",
              "    </tr>\n",
              "    <tr>\n",
              "      <th>1</th>\n",
              "      <td>42</td>\n",
              "      <td>2549</td>\n",
              "      <td>652</td>\n",
              "      <td>28</td>\n",
              "    </tr>\n",
              "  </tbody>\n",
              "</table>\n",
              "</div>"
            ],
            "text/plain": [
              "keyword   0     1    2   3\n",
              "target                    \n",
              "0        19  3838  480   5\n",
              "1        42  2549  652  28"
            ]
          },
          "metadata": {
            "tags": []
          }
        },
        {
          "output_type": "stream",
          "text": [
            "ターゲット内の割合(%)\n"
          ],
          "name": "stdout"
        },
        {
          "output_type": "display_data",
          "data": {
            "text/html": [
              "<div>\n",
              "<style scoped>\n",
              "    .dataframe tbody tr th:only-of-type {\n",
              "        vertical-align: middle;\n",
              "    }\n",
              "\n",
              "    .dataframe tbody tr th {\n",
              "        vertical-align: top;\n",
              "    }\n",
              "\n",
              "    .dataframe thead th {\n",
              "        text-align: right;\n",
              "    }\n",
              "</style>\n",
              "<table border=\"1\" class=\"dataframe\">\n",
              "  <thead>\n",
              "    <tr style=\"text-align: right;\">\n",
              "      <th>keyword</th>\n",
              "      <th>0</th>\n",
              "      <th>1</th>\n",
              "      <th>2</th>\n",
              "      <th>3</th>\n",
              "    </tr>\n",
              "    <tr>\n",
              "      <th>target</th>\n",
              "      <th></th>\n",
              "      <th></th>\n",
              "      <th></th>\n",
              "      <th></th>\n",
              "    </tr>\n",
              "  </thead>\n",
              "  <tbody>\n",
              "    <tr>\n",
              "      <th>0</th>\n",
              "      <td>0.44</td>\n",
              "      <td>88.39</td>\n",
              "      <td>11.05</td>\n",
              "      <td>0.12</td>\n",
              "    </tr>\n",
              "    <tr>\n",
              "      <th>1</th>\n",
              "      <td>1.28</td>\n",
              "      <td>77.93</td>\n",
              "      <td>19.93</td>\n",
              "      <td>0.86</td>\n",
              "    </tr>\n",
              "  </tbody>\n",
              "</table>\n",
              "</div>"
            ],
            "text/plain": [
              "keyword     0      1      2     3\n",
              "target                           \n",
              "0        0.44  88.39  11.05  0.12\n",
              "1        1.28  77.93  19.93  0.86"
            ]
          },
          "metadata": {
            "tags": []
          }
        },
        {
          "output_type": "stream",
          "text": [
            "キーワードの割合(%)\n"
          ],
          "name": "stdout"
        },
        {
          "output_type": "display_data",
          "data": {
            "text/html": [
              "<div>\n",
              "<style scoped>\n",
              "    .dataframe tbody tr th:only-of-type {\n",
              "        vertical-align: middle;\n",
              "    }\n",
              "\n",
              "    .dataframe tbody tr th {\n",
              "        vertical-align: top;\n",
              "    }\n",
              "\n",
              "    .dataframe thead th {\n",
              "        text-align: right;\n",
              "    }\n",
              "</style>\n",
              "<table border=\"1\" class=\"dataframe\">\n",
              "  <thead>\n",
              "    <tr style=\"text-align: right;\">\n",
              "      <th>target</th>\n",
              "      <th>0</th>\n",
              "      <th>1</th>\n",
              "    </tr>\n",
              "    <tr>\n",
              "      <th>keyword</th>\n",
              "      <th></th>\n",
              "      <th></th>\n",
              "    </tr>\n",
              "  </thead>\n",
              "  <tbody>\n",
              "    <tr>\n",
              "      <th>0</th>\n",
              "      <td>31.15</td>\n",
              "      <td>68.85</td>\n",
              "    </tr>\n",
              "    <tr>\n",
              "      <th>1</th>\n",
              "      <td>60.09</td>\n",
              "      <td>39.91</td>\n",
              "    </tr>\n",
              "    <tr>\n",
              "      <th>2</th>\n",
              "      <td>42.40</td>\n",
              "      <td>57.60</td>\n",
              "    </tr>\n",
              "    <tr>\n",
              "      <th>3</th>\n",
              "      <td>15.15</td>\n",
              "      <td>84.85</td>\n",
              "    </tr>\n",
              "  </tbody>\n",
              "</table>\n",
              "</div>"
            ],
            "text/plain": [
              "target       0      1\n",
              "keyword              \n",
              "0        31.15  68.85\n",
              "1        60.09  39.91\n",
              "2        42.40  57.60\n",
              "3        15.15  84.85"
            ]
          },
          "metadata": {
            "tags": []
          }
        }
      ]
    },
    {
      "cell_type": "markdown",
      "metadata": {
        "id": "w0VdESH-li7D"
      },
      "source": [
        "`keyword`３個もごくごく稀にありました。\n",
        "\n",
        "`keyword`の個数が\n",
        "- 0個 -> 災害の割合が２倍以上\n",
        "- 1個 -> 災害の割合は低い\n",
        "- 2個 -> ぶっちゃけ半々\n",
        "- 3個 -> 災害の割合がめっちゃ高い\n",
        "\n",
        "とはいえ、`keyword`が0個,3個のパターンは少ないのでなんとも言えない感じですが、データとして利用する価値はある。"
      ]
    },
    {
      "cell_type": "markdown",
      "metadata": {
        "id": "AhLVHXU5mmZT"
      },
      "source": [
        "### keywordの深堀り\n",
        "\n",
        "例えば\n",
        "\n",
        "- `ablaze, accident`と`ablaze`、`accident, ablaze`はデータとしては異なるが同じように扱ってもいいはず。\n",
        "\n",
        "keywordを"
      ]
    },
    {
      "cell_type": "markdown",
      "metadata": {
        "id": "EMgpq_EAju3A"
      },
      "source": [
        ""
      ]
    },
    {
      "cell_type": "code",
      "metadata": {
        "colab": {
          "base_uri": "https://localhost:8080/"
        },
        "id": "bnGiZgpIjK7G",
        "outputId": "07f6dd0a-8f77-4f7e-d0dc-5b2a8f4ac9f0"
      },
      "source": [
        "uniq_keyword = set()\n",
        "\n",
        "for keywords in train[train.keyword.notnull()].keyword.apply(split_keyword):\n",
        "    for keyword in keywords:\n",
        "        uniq_keyword.add(keyword)\n",
        "\n",
        "print(len(uniq_keyword))\n",
        "uniq_keyword"
      ],
      "execution_count": null,
      "outputs": [
        {
          "output_type": "stream",
          "text": [
            "229\n"
          ],
          "name": "stdout"
        },
        {
          "output_type": "execute_result",
          "data": {
            "text/plain": [
              "{'ablaze',\n",
              " 'accident',\n",
              " 'aftershock',\n",
              " 'airplane',\n",
              " 'ambulance',\n",
              " 'annihilated',\n",
              " 'annihilation',\n",
              " 'apocalypse',\n",
              " 'armageddon',\n",
              " 'army',\n",
              " 'arson',\n",
              " 'arsonist',\n",
              " 'attack',\n",
              " 'attacked',\n",
              " 'avalanche',\n",
              " 'bag',\n",
              " 'bagging',\n",
              " 'bags',\n",
              " 'bang',\n",
              " 'battle',\n",
              " 'bioterror',\n",
              " 'bioterrorism',\n",
              " 'blaze',\n",
              " 'blazing',\n",
              " 'bleeding',\n",
              " 'blew',\n",
              " 'blight',\n",
              " 'blizzard',\n",
              " 'blood',\n",
              " 'bloody',\n",
              " 'blown',\n",
              " 'body',\n",
              " 'bomb',\n",
              " 'bombed',\n",
              " 'bomber',\n",
              " 'bombing',\n",
              " 'bridge',\n",
              " 'buildings',\n",
              " 'burned',\n",
              " 'burning',\n",
              " 'bush',\n",
              " 'casualties',\n",
              " 'casualty',\n",
              " 'catastrophe',\n",
              " 'catastrophic',\n",
              " 'chemical',\n",
              " 'cliff',\n",
              " 'collapse',\n",
              " 'collapsed',\n",
              " 'collide',\n",
              " 'collided',\n",
              " 'collision',\n",
              " 'crash',\n",
              " 'crashed',\n",
              " 'crush',\n",
              " 'crushed',\n",
              " 'curfew',\n",
              " 'cyclone',\n",
              " 'damage',\n",
              " 'danger',\n",
              " 'dead',\n",
              " 'death',\n",
              " 'deaths',\n",
              " 'debris',\n",
              " 'deluge',\n",
              " 'deluged',\n",
              " 'demolish',\n",
              " 'demolished',\n",
              " 'demolition',\n",
              " 'derail',\n",
              " 'derailed',\n",
              " 'derailment',\n",
              " 'desolate',\n",
              " 'desolation',\n",
              " 'destroy',\n",
              " 'destroyed',\n",
              " 'destruction',\n",
              " 'detonate',\n",
              " 'detonation',\n",
              " 'devastated',\n",
              " 'devastation',\n",
              " 'disaster',\n",
              " 'displaced',\n",
              " 'drought',\n",
              " 'drown',\n",
              " 'drowned',\n",
              " 'drowning',\n",
              " 'dust',\n",
              " 'earthquake',\n",
              " 'electrocute',\n",
              " 'electrocuted',\n",
              " 'emergency',\n",
              " 'engulfed',\n",
              " 'epicentre',\n",
              " 'evacuate',\n",
              " 'evacuated',\n",
              " 'evacuation',\n",
              " 'explode',\n",
              " 'exploded',\n",
              " 'explosion',\n",
              " 'eyewitness',\n",
              " 'failure',\n",
              " 'fall',\n",
              " 'famine',\n",
              " 'fatal',\n",
              " 'fatalities',\n",
              " 'fatality',\n",
              " 'fear',\n",
              " 'fire',\n",
              " 'fires',\n",
              " 'first',\n",
              " 'flames',\n",
              " 'flattened',\n",
              " 'flood',\n",
              " 'flooding',\n",
              " 'floods',\n",
              " 'forest',\n",
              " 'hail',\n",
              " 'hailstorm',\n",
              " 'harm',\n",
              " 'hazard',\n",
              " 'hazardous',\n",
              " 'heat',\n",
              " 'hellfire',\n",
              " 'hijack',\n",
              " 'hijacker',\n",
              " 'hijacking',\n",
              " 'hostage',\n",
              " 'hostages',\n",
              " 'hurricane',\n",
              " 'injured',\n",
              " 'injuries',\n",
              " 'injury',\n",
              " 'inundated',\n",
              " 'inundation',\n",
              " 'landslide',\n",
              " 'lava',\n",
              " 'lightning',\n",
              " 'loud',\n",
              " 'mass',\n",
              " 'massacre',\n",
              " 'mayhem',\n",
              " 'meltdown',\n",
              " 'military',\n",
              " 'mudslide',\n",
              " 'murder',\n",
              " 'murderer',\n",
              " 'natural',\n",
              " 'nuclear',\n",
              " 'obliterate',\n",
              " 'obliterated',\n",
              " 'obliteration',\n",
              " 'oil',\n",
              " 'on',\n",
              " 'outbreak',\n",
              " 'pandemonium',\n",
              " 'panic',\n",
              " 'panicking',\n",
              " 'plan',\n",
              " 'police',\n",
              " 'quarantine',\n",
              " 'quarantined',\n",
              " 'radiation',\n",
              " 'rainstorm',\n",
              " 'razed',\n",
              " 'reactor',\n",
              " 'refugees',\n",
              " 'rescue',\n",
              " 'rescued',\n",
              " 'rescuers',\n",
              " 'responders',\n",
              " 'riot',\n",
              " 'rioting',\n",
              " 'rubble',\n",
              " 'ruin',\n",
              " 'sandstorm',\n",
              " 'screamed',\n",
              " 'screaming',\n",
              " 'screams',\n",
              " 'seismic',\n",
              " 'services',\n",
              " 'sinkhole',\n",
              " 'sinking',\n",
              " 'siren',\n",
              " 'sirens',\n",
              " 'smoke',\n",
              " 'snowstorm',\n",
              " 'spill',\n",
              " 'storm',\n",
              " 'stretcher',\n",
              " 'structural',\n",
              " 'suicide',\n",
              " 'sunk',\n",
              " 'survive',\n",
              " 'survived',\n",
              " 'survivors',\n",
              " 'terrorism',\n",
              " 'terrorist',\n",
              " 'threat',\n",
              " 'thunder',\n",
              " 'thunderstorm',\n",
              " 'tornado',\n",
              " 'tragedy',\n",
              " 'trapped',\n",
              " 'trauma',\n",
              " 'traumatised',\n",
              " 'trouble',\n",
              " 'truck',\n",
              " 'tsunami',\n",
              " 'twister',\n",
              " 'typhoon',\n",
              " 'up',\n",
              " 'upheaval',\n",
              " 'violent',\n",
              " 'volcano',\n",
              " 'war',\n",
              " 'wave',\n",
              " 'weapon',\n",
              " 'weapons',\n",
              " 'whirlwind',\n",
              " 'wild',\n",
              " 'wildfire',\n",
              " 'windstorm',\n",
              " 'wounded',\n",
              " 'wounds',\n",
              " 'wreck',\n",
              " 'wreckage',\n",
              " 'wrecked',\n",
              " 'zone'}"
            ]
          },
          "metadata": {
            "tags": []
          },
          "execution_count": 14
        }
      ]
    },
    {
      "cell_type": "markdown",
      "metadata": {
        "id": "9pz9VSqiomPL"
      },
      "source": [
        "229種のキーワードがあった。"
      ]
    },
    {
      "cell_type": "code",
      "metadata": {
        "colab": {
          "base_uri": "https://localhost:8080/",
          "height": 341
        },
        "id": "3fGsmbwIosfS",
        "outputId": "e385d3ae-dcff-47ae-8da7-d3269a7d4b27"
      },
      "source": [
        "splited_keyword = train.keyword.fillna('').apply(split_keyword)\n",
        "_uniq_keywords = list(uniq_keyword)\n",
        "target_keyword_corr = pd.concat([train.target, *[splited_keyword.apply(lambda keywords: 1 if keyword in keywords else 0) for keyword in _uniq_keywords]], axis=1, keys=['target', *_uniq_keywords]).corr()\n",
        "sns.heatmap(target_keyword_corr, vmax=1, vmin=-1, center=0)\n",
        "\n",
        "# target_keyword_corr[(target_keyword_corr.abs() > 0.3) & (target_keyword_corr.abs() < 1)].stack()"
      ],
      "execution_count": null,
      "outputs": [
        {
          "output_type": "execute_result",
          "data": {
            "text/plain": [
              "<matplotlib.axes._subplots.AxesSubplot at 0x7f9b4bacf8d0>"
            ]
          },
          "metadata": {
            "tags": []
          },
          "execution_count": 15
        },
        {
          "output_type": "display_data",
          "data": {
            "image/png": "[encoded data removed]",
            "text/plain": [
              "<Figure size 432x288 with 2 Axes>"
            ]
          },
          "metadata": {
            "tags": []
          }
        }
      ]
    },
    {
      "cell_type": "markdown",
      "metadata": {
        "id": "tA30Wviprys-"
      },
      "source": [
        "あまり見やすくないので相関が高めの物だけに絞り込む"
      ]
    },
    {
      "cell_type": "code",
      "metadata": {
        "colab": {
          "base_uri": "https://localhost:8080/"
        },
        "id": "DYqcRWkms67Y",
        "outputId": "a628e32e-7ffc-4542-dbcc-334851a8a3e1"
      },
      "source": [
        "target_keyword_corr.target.reindex(target_keyword_corr.target.abs().sort_values(ascending=False).index).head()"
      ],
      "execution_count": null,
      "outputs": [
        {
          "output_type": "execute_result",
          "data": {
            "text/plain": [
              "target     1.000000\n",
              "suicide    0.120536\n",
              "bombing    0.095542\n",
              "body      -0.087851\n",
              "fires      0.084874\n",
              "Name: target, dtype: float64"
            ]
          },
          "metadata": {
            "tags": []
          },
          "execution_count": 16
        }
      ]
    },
    {
      "cell_type": "markdown",
      "metadata": {
        "id": "CHi0rva8t50D"
      },
      "source": [
        "`target`と直接相関の高いものはなさそう。\n",
        "\n",
        "- suicide(自殺)はかろうじて0.1より大きい程度\n",
        "\n",
        "あまり`keyword`の要素では分けられなさそう。"
      ]
    },
    {
      "cell_type": "markdown",
      "metadata": {
        "id": "pFXCInnPuRsN"
      },
      "source": [
        "## locationの確認"
      ]
    },
    {
      "cell_type": "code",
      "metadata": {
        "colab": {
          "base_uri": "https://localhost:8080/"
        },
        "id": "BLoFDVSyts94",
        "outputId": "484a1b49-94e0-4086-f7e6-276d4e0465a9"
      },
      "source": [
        "print(len(train.location.unique()))\n",
        "train.location.unique()"
      ],
      "execution_count": null,
      "outputs": [
        {
          "output_type": "stream",
          "text": [
            "3342\n"
          ],
          "name": "stdout"
        },
        {
          "output_type": "execute_result",
          "data": {
            "text/plain": [
              "array([nan, 'Birmingham', 'Est. September 2012 - Bristol', ...,\n",
              "       'Vancouver, Canada', 'London ', 'Lincoln'], dtype=object)"
            ]
          },
          "metadata": {
            "tags": []
          },
          "execution_count": 17
        }
      ]
    },
    {
      "cell_type": "markdown",
      "metadata": {
        "id": "TxmlxZu2uzhK"
      },
      "source": [
        "約3300の地域がある。ただ、中には`Est. September 2012 - Bristol`のように純粋な地名になっていないものもある。"
      ]
    },
    {
      "cell_type": "markdown",
      "metadata": {
        "id": "CIPC2xOHyJTq"
      },
      "source": [
        "結構雑なデータで地名という特性上抜き出すのは困難なので、使わないことにする。"
      ]
    },
    {
      "cell_type": "markdown",
      "metadata": {
        "id": "Bcfzyq2n1GWN"
      },
      "source": [
        "## textの確認\n",
        "\n",
        "textはもっとも自由度が高く、前処理の方法も色々考えられそうだ。まずはいくつかのtextを見てみる"
      ]
    },
    {
      "cell_type": "code",
      "metadata": {
        "colab": {
          "base_uri": "https://localhost:8080/"
        },
        "id": "HupXcmaS1VFQ",
        "outputId": "ac91a9c8-2033-452a-a845-a7e5eec6e725"
      },
      "source": [
        "train.text.head(50)"
      ],
      "execution_count": null,
      "outputs": [
        {
          "output_type": "execute_result",
          "data": {
            "text/plain": [
              "0     Our Deeds are the Reason of this #earthquake M...\n",
              "1                Forest fire near La Ronge Sask. Canada\n",
              "2     All residents asked to 'shelter in place' are ...\n",
              "3     13,000 people receive #wildfires evacuation or...\n",
              "4     Just got sent this photo from Ruby #Alaska as ...\n",
              "5     #RockyFire Update => California Hwy. 20 closed...\n",
              "6     #flood #disaster Heavy rain causes flash flood...\n",
              "7     I'm on top of the hill and I can see a fire in...\n",
              "8     There's an emergency evacuation happening now ...\n",
              "9     I'm afraid that the tornado is coming to our a...\n",
              "10          Three people died from the heat wave so far\n",
              "11    Haha South Tampa is getting flooded hah- WAIT ...\n",
              "12    #raining #flooding #Florida #TampaBay #Tampa 1...\n",
              "13              #Flood in Bago Myanmar #We arrived Bago\n",
              "14    Damage to school bus on 80 in multi car crash ...\n",
              "15                                       What's up man?\n",
              "16                                        I love fruits\n",
              "17                                     Summer is lovely\n",
              "18                                    My car is so fast\n",
              "19                         What a goooooooaaaaaal!!!!!!\n",
              "20                               this is ridiculous....\n",
              "21                                    London is cool ;)\n",
              "22                                          Love skiing\n",
              "23                                What a wonderful day!\n",
              "24                                             LOOOOOOL\n",
              "25                       No way...I can't eat that shit\n",
              "26                                Was in NYC last week!\n",
              "27                                   Love my girlfriend\n",
              "28                                            Cooool :)\n",
              "29                                   Do you like pasta?\n",
              "30                                             The end!\n",
              "31    @bbcmtd Wholesale Markets ablaze http://t.co/l...\n",
              "32    We always try to bring the heavy. #metal #RT h...\n",
              "33    #AFRICANBAZE: Breaking news:Nigeria flag set a...\n",
              "34                   Crying out for more! Set me ablaze\n",
              "35    On plus side LOOK AT THE SKY LAST NIGHT IT WAS...\n",
              "36    @PhDSquares #mufc they've built so much hype a...\n",
              "37    INEC Office in Abia Set Ablaze - http://t.co/3...\n",
              "38    Barbados #Bridgetown JAMAICA ÛÒ Two cars set ...\n",
              "39                               Ablaze for you Lord :D\n",
              "40    Check these out: http://t.co/rOI2NSmEJJ http:/...\n",
              "41    on the outside you're ablaze and alive\\nbut yo...\n",
              "42    Had an awesome time visiting the CFC head offi...\n",
              "43         SOOOO PUMPED FOR ABLAZE ???? @southridgelife\n",
              "44    I wanted to set Chicago ablaze with my preachi...\n",
              "45    I gained 3 followers in the last week. You? Kn...\n",
              "46    How the West was burned: Thousands of wildfire...\n",
              "47    Building the perfect tracklist to life leave t...\n",
              "48    Check these out: http://t.co/rOI2NSmEJJ http:/...\n",
              "49    First night with retainers in. It's quite weir...\n",
              "Name: text, dtype: object"
            ]
          },
          "metadata": {
            "tags": []
          },
          "execution_count": 18
        }
      ]
    },
    {
      "cell_type": "markdown",
      "metadata": {
        "id": "hlFJktzX1czt"
      },
      "source": [
        "すると、`@bbcmtd`のようになにかのメンションのようなものや、`http://t.co/rOI2NSmEJJ`のようにリンクになっているもの、`#metal`,`#RT`のようにハッシュタグになっているものもある。\n",
        "\n",
        "これらは言葉としては意味のないものなので除去してあげる必要がある。リンクはリンクとしての情報しかないが、メンション先、ハッシュタグの内容などは利用できる可能性がある。"
      ]
    },
    {
      "cell_type": "code",
      "metadata": {
        "id": "19DbTAYm1XdX"
      },
      "source": [
        "import re\n",
        "\n",
        "def text_to_mentions(text: str):\n",
        "    return list(map(lambda x: x[1:],re.findall(r'@[a-zA-Z0-9_\\-]+', text)))\n",
        "\n",
        "def text_remove_mentions(text: str):\n",
        "    return re.sub(r'@[a-zA-Z0-9_\\-]+', '', text)\n",
        "\n",
        "def text_has_url(text: str):\n",
        "    return re.findall(r'https?://[a-zA-Z0-9./_\\-]+', text)\n",
        "\n",
        "def text_remove_url(text: str):\n",
        "    return re.sub(r'https?://[a-zA-Z0-9./_\\-]+', '', text)\n",
        "\n",
        "def text_to_hashtags(text: str):\n",
        "    return list(map(lambda x: x[1:].lower(),re.findall(r'#[a-zA-Z0-9_\\-]+', text)))\n",
        "\n",
        "def text_remove_hashtags(text: str):\n",
        "    return re.sub(r'#[a-zA-Z0-9_\\-]+', '', text)"
      ],
      "execution_count": null,
      "outputs": []
    },
    {
      "cell_type": "code",
      "metadata": {
        "colab": {
          "base_uri": "https://localhost:8080/",
          "height": 999
        },
        "id": "6gPTO5Aq3LoV",
        "outputId": "1c0c33cc-5737-4bd7-f9bf-2ff540e47001"
      },
      "source": [
        "text_mentions = train.text.apply(text_to_mentions)\n",
        "text_url = train.text.apply(text_has_url)\n",
        "text_hashtags = train.text.apply(text_to_hashtags)\n",
        "\n",
        "print('mentions')\n",
        "print(text_mentions[text_mentions.apply(lambda x: len(x)) > 0].count())\n",
        "display(text_mentions[text_mentions.apply(lambda x: len(x)) > 0])\n",
        "\n",
        "print('\\nhashtag')\n",
        "print(text_hashtags[text_hashtags.apply(lambda x: len(x)) > 0].count())\n",
        "display(text_hashtags[text_hashtags.apply(lambda x: len(x)) > 0])\n",
        "\n",
        "print('\\nurl')\n",
        "print(text_url[text_url.apply(len) > 0].head(10))\n",
        "text_url.apply(len).hist()"
      ],
      "execution_count": null,
      "outputs": [
        {
          "output_type": "stream",
          "text": [
            "mentions\n",
            "2009\n"
          ],
          "name": "stdout"
        },
        {
          "output_type": "display_data",
          "data": {
            "text/plain": [
              "31                        [bbcmtd]\n",
              "36                    [PhDSquares]\n",
              "43                [southridgelife]\n",
              "54                [Alexis_Sanchez]\n",
              "63           [Navista7, News24680]\n",
              "                   ...            \n",
              "7577                     [widda16]\n",
              "7578    [jt_ruff23, cameronhacker]\n",
              "7581                  [engineshed]\n",
              "7596                [LivingSafely]\n",
              "7609    [aria_ahrary, TheTawniest]\n",
              "Name: text, Length: 2009, dtype: object"
            ]
          },
          "metadata": {
            "tags": []
          }
        },
        {
          "output_type": "stream",
          "text": [
            "\n",
            "hashtag\n",
            "1743\n"
          ],
          "name": "stdout"
        },
        {
          "output_type": "display_data",
          "data": {
            "text/plain": [
              "0                         [earthquake]\n",
              "3                          [wildfires]\n",
              "4                  [alaska, wildfires]\n",
              "5       [rockyfire, cafire, wildfires]\n",
              "6                    [flood, disaster]\n",
              "                     ...              \n",
              "7598        [bathandnortheastsomerset]\n",
              "7599              [earthquake, iphone]\n",
              "7601                    [breaking, la]\n",
              "7604                       [worldnews]\n",
              "7607                      [stormchase]\n",
              "Name: text, Length: 1743, dtype: object"
            ]
          },
          "metadata": {
            "tags": []
          }
        },
        {
          "output_type": "stream",
          "text": [
            "\n",
            "url\n",
            "31                             [http://t.co/lHYXEOHY6C]\n",
            "32                             [http://t.co/YAo1e0xngw]\n",
            "33                             [http://t.co/2nndBGwyEi]\n",
            "35                             [http://t.co/qqsmshaJ3N]\n",
            "37                             [http://t.co/3ImaomknnA]\n",
            "38                             [http://t.co/wDUEaj8Q4J]\n",
            "40    [http://t.co/rOI2NSmEJJ, http://t.co/3Tj8ZjiN2...\n",
            "44                             [http://t.co/o9qknbfOFX]\n",
            "45                             [http://t.co/TIyUliF5c6]\n",
            "46                             [http://t.co/vl5TBR3wbr]\n",
            "Name: text, dtype: object\n"
          ],
          "name": "stdout"
        },
        {
          "output_type": "execute_result",
          "data": {
            "text/plain": [
              "<matplotlib.axes._subplots.AxesSubplot at 0x7f9b422c7c10>"
            ]
          },
          "metadata": {
            "tags": []
          },
          "execution_count": 20
        },
        {
          "output_type": "display_data",
          "data": {
            "image/png": "[encoded data removed]",
            "text/plain": [
              "<Figure size 432x288 with 1 Axes>"
            ]
          },
          "metadata": {
            "tags": []
          }
        }
      ]
    },
    {
      "cell_type": "markdown",
      "metadata": {
        "id": "wThj_nWh5RkH"
      },
      "source": [
        "メンションがあるものは約25%で、ハッシュタグのあるものは約22%となっている。\n",
        "\n",
        "また、投稿の半分以上にurlを含んでいることがわかった。"
      ]
    },
    {
      "cell_type": "markdown",
      "metadata": {
        "id": "-HO0xbGl5lN_"
      },
      "source": [
        "### mentionとtargetの関係"
      ]
    },
    {
      "cell_type": "code",
      "metadata": {
        "colab": {
          "base_uri": "https://localhost:8080/"
        },
        "id": "RRkpF5q85pmD",
        "outputId": "43aca48d-5157-4281-c233-feb31863a55c"
      },
      "source": [
        "uniq_mention = set()\n",
        "\n",
        "for mentions in text_mentions:\n",
        "    for mention in mentions:\n",
        "        uniq_mention.add(mention)\n",
        "\n",
        "uniq_mention = list(uniq_mention)\n",
        "print(len(uniq_mention))"
      ],
      "execution_count": null,
      "outputs": [
        {
          "output_type": "stream",
          "text": [
            "2326\n"
          ],
          "name": "stdout"
        }
      ]
    },
    {
      "cell_type": "markdown",
      "metadata": {
        "id": "mfxOWq7q6JdN"
      },
      "source": [
        "全部で2283種類のメンションがあることがわかった。"
      ]
    },
    {
      "cell_type": "code",
      "metadata": {
        "colab": {
          "base_uri": "https://localhost:8080/",
          "height": 383
        },
        "id": "V1NkYKi75MOP",
        "outputId": "1a027a1a-e80e-4b20-a246-3eadf1be74fa"
      },
      "source": [
        "target_text_mentions_corr = pd.concat([train.target, *[text_mentions.apply(lambda mentions: 1 if mention in mentions else 0) for mention in uniq_mention]], axis=1, keys=['target', *uniq_mention]).corr()\n",
        "sns.heatmap(target_text_mentions_corr, vmax=1, vmin=-1, center=0)\n",
        "\n",
        "# target_keyword_corr[(target_keyword_corr.abs() > 0.3) & (target_keyword_corr.abs() < 1)].stack()"
      ],
      "execution_count": null,
      "outputs": [
        {
          "output_type": "execute_result",
          "data": {
            "text/plain": [
              "<matplotlib.axes._subplots.AxesSubplot at 0x7f9b42260f10>"
            ]
          },
          "metadata": {
            "tags": []
          },
          "execution_count": 22
        },
        {
          "output_type": "display_data",
          "data": {
            "image/png": "[encoded data removed]",
            "text/plain": [
              "<Figure size 432x288 with 2 Axes>"
            ]
          },
          "metadata": {
            "tags": []
          }
        }
      ]
    },
    {
      "cell_type": "code",
      "metadata": {
        "colab": {
          "base_uri": "https://localhost:8080/"
        },
        "id": "GdpmmEJ25XHK",
        "outputId": "f691cd75-f42c-4d2c-f7db-2a5eeee28b35"
      },
      "source": [
        "target_text_mentions_corr.target.reindex(target_text_mentions_corr.target.abs().sort_values(ascending=False).index).head()"
      ],
      "execution_count": null,
      "outputs": [
        {
          "output_type": "execute_result",
          "data": {
            "text/plain": [
              "target          1.000000\n",
              "YouTube        -0.046868\n",
              "ArianaGrande   -0.033016\n",
              "FoxNews         0.031915\n",
              "AP              0.029536\n",
              "Name: target, dtype: float64"
            ]
          },
          "metadata": {
            "tags": []
          },
          "execution_count": 23
        }
      ]
    },
    {
      "cell_type": "markdown",
      "metadata": {
        "id": "gVf1SEWy7HXx"
      },
      "source": [
        "これもtargetに対してほとんど意味の感じとなっている。"
      ]
    },
    {
      "cell_type": "code",
      "metadata": {
        "colab": {
          "base_uri": "https://localhost:8080/",
          "height": 981
        },
        "id": "EBugQ3Wh79B_",
        "outputId": "e2394e7b-6066-42ef-e9bd-338827462a38"
      },
      "source": [
        "max_mentions = text_mentions.apply(len).max()\n",
        "target_text_mention_count_corr = pd.concat([train.target, *[text_mentions.apply(len).apply(lambda x: 1 if x==cnt else 0) for cnt in range(max_mentions + 1)]], axis=1, keys=['target', *range(max_mentions + 1)]).corr()\n",
        "\n",
        "display(target_text_mention_count_corr)\n",
        "sns.heatmap(target_text_mention_count_corr, vmax=1, vmin=-1, center=0)\n",
        "plt.show()\n",
        "\n",
        "target_text_has_mention_corr = pd.concat([train.target, text_mentions.apply(len).apply(lambda x: 1 if x > 0 else 0)], axis=1, keys=['target', 'has_mention']).corr()\n",
        "\n",
        "display(target_text_has_mention_corr)\n",
        "sns.heatmap(target_text_has_mention_corr, vmax=1, vmin=-1, center=0)"
      ],
      "execution_count": null,
      "outputs": [
        {
          "output_type": "display_data",
          "data": {
            "text/html": [
              "<div>\n",
              "<style scoped>\n",
              "    .dataframe tbody tr th:only-of-type {\n",
              "        vertical-align: middle;\n",
              "    }\n",
              "\n",
              "    .dataframe tbody tr th {\n",
              "        vertical-align: top;\n",
              "    }\n",
              "\n",
              "    .dataframe thead th {\n",
              "        text-align: right;\n",
              "    }\n",
              "</style>\n",
              "<table border=\"1\" class=\"dataframe\">\n",
              "  <thead>\n",
              "    <tr style=\"text-align: right;\">\n",
              "      <th></th>\n",
              "      <th>target</th>\n",
              "      <th>0</th>\n",
              "      <th>1</th>\n",
              "      <th>2</th>\n",
              "      <th>3</th>\n",
              "      <th>4</th>\n",
              "      <th>5</th>\n",
              "      <th>6</th>\n",
              "      <th>7</th>\n",
              "      <th>8</th>\n",
              "    </tr>\n",
              "  </thead>\n",
              "  <tbody>\n",
              "    <tr>\n",
              "      <th>target</th>\n",
              "      <td>1.000000</td>\n",
              "      <td>0.118716</td>\n",
              "      <td>-0.096526</td>\n",
              "      <td>-0.056972</td>\n",
              "      <td>0.005145</td>\n",
              "      <td>-0.008004</td>\n",
              "      <td>-0.024196</td>\n",
              "      <td>-0.022251</td>\n",
              "      <td>-0.009948</td>\n",
              "      <td>-0.009948</td>\n",
              "    </tr>\n",
              "    <tr>\n",
              "      <th>0</th>\n",
              "      <td>0.118716</td>\n",
              "      <td>1.000000</td>\n",
              "      <td>-0.837960</td>\n",
              "      <td>-0.359999</td>\n",
              "      <td>-0.178524</td>\n",
              "      <td>-0.105051</td>\n",
              "      <td>-0.079012</td>\n",
              "      <td>-0.042816</td>\n",
              "      <td>-0.019143</td>\n",
              "      <td>-0.019143</td>\n",
              "    </tr>\n",
              "    <tr>\n",
              "      <th>1</th>\n",
              "      <td>-0.096526</td>\n",
              "      <td>-0.837960</td>\n",
              "      <td>1.000000</td>\n",
              "      <td>-0.108145</td>\n",
              "      <td>-0.053629</td>\n",
              "      <td>-0.031558</td>\n",
              "      <td>-0.023735</td>\n",
              "      <td>-0.012862</td>\n",
              "      <td>-0.005751</td>\n",
              "      <td>-0.005751</td>\n",
              "    </tr>\n",
              "    <tr>\n",
              "      <th>2</th>\n",
              "      <td>-0.056972</td>\n",
              "      <td>-0.359999</td>\n",
              "      <td>-0.108145</td>\n",
              "      <td>1.000000</td>\n",
              "      <td>-0.023040</td>\n",
              "      <td>-0.013558</td>\n",
              "      <td>-0.010197</td>\n",
              "      <td>-0.005526</td>\n",
              "      <td>-0.002471</td>\n",
              "      <td>-0.002471</td>\n",
              "    </tr>\n",
              "    <tr>\n",
              "      <th>3</th>\n",
              "      <td>0.005145</td>\n",
              "      <td>-0.178524</td>\n",
              "      <td>-0.053629</td>\n",
              "      <td>-0.023040</td>\n",
              "      <td>1.000000</td>\n",
              "      <td>-0.006723</td>\n",
              "      <td>-0.005057</td>\n",
              "      <td>-0.002740</td>\n",
              "      <td>-0.001225</td>\n",
              "      <td>-0.001225</td>\n",
              "    </tr>\n",
              "    <tr>\n",
              "      <th>4</th>\n",
              "      <td>-0.008004</td>\n",
              "      <td>-0.105051</td>\n",
              "      <td>-0.031558</td>\n",
              "      <td>-0.013558</td>\n",
              "      <td>-0.006723</td>\n",
              "      <td>1.000000</td>\n",
              "      <td>-0.002976</td>\n",
              "      <td>-0.001612</td>\n",
              "      <td>-0.000721</td>\n",
              "      <td>-0.000721</td>\n",
              "    </tr>\n",
              "    <tr>\n",
              "      <th>5</th>\n",
              "      <td>-0.024196</td>\n",
              "      <td>-0.079012</td>\n",
              "      <td>-0.023735</td>\n",
              "      <td>-0.010197</td>\n",
              "      <td>-0.005057</td>\n",
              "      <td>-0.002976</td>\n",
              "      <td>1.000000</td>\n",
              "      <td>-0.001213</td>\n",
              "      <td>-0.000542</td>\n",
              "      <td>-0.000542</td>\n",
              "    </tr>\n",
              "    <tr>\n",
              "      <th>6</th>\n",
              "      <td>-0.022251</td>\n",
              "      <td>-0.042816</td>\n",
              "      <td>-0.012862</td>\n",
              "      <td>-0.005526</td>\n",
              "      <td>-0.002740</td>\n",
              "      <td>-0.001612</td>\n",
              "      <td>-0.001213</td>\n",
              "      <td>1.000000</td>\n",
              "      <td>-0.000294</td>\n",
              "      <td>-0.000294</td>\n",
              "    </tr>\n",
              "    <tr>\n",
              "      <th>7</th>\n",
              "      <td>-0.009948</td>\n",
              "      <td>-0.019143</td>\n",
              "      <td>-0.005751</td>\n",
              "      <td>-0.002471</td>\n",
              "      <td>-0.001225</td>\n",
              "      <td>-0.000721</td>\n",
              "      <td>-0.000542</td>\n",
              "      <td>-0.000294</td>\n",
              "      <td>1.000000</td>\n",
              "      <td>-0.000131</td>\n",
              "    </tr>\n",
              "    <tr>\n",
              "      <th>8</th>\n",
              "      <td>-0.009948</td>\n",
              "      <td>-0.019143</td>\n",
              "      <td>-0.005751</td>\n",
              "      <td>-0.002471</td>\n",
              "      <td>-0.001225</td>\n",
              "      <td>-0.000721</td>\n",
              "      <td>-0.000542</td>\n",
              "      <td>-0.000294</td>\n",
              "      <td>-0.000131</td>\n",
              "      <td>1.000000</td>\n",
              "    </tr>\n",
              "  </tbody>\n",
              "</table>\n",
              "</div>"
            ],
            "text/plain": [
              "          target         0         1  ...         6         7         8\n",
              "target  1.000000  0.118716 -0.096526  ... -0.022251 -0.009948 -0.009948\n",
              "0       0.118716  1.000000 -0.837960  ... -0.042816 -0.019143 -0.019143\n",
              "1      -0.096526 -0.837960  1.000000  ... -0.012862 -0.005751 -0.005751\n",
              "2      -0.056972 -0.359999 -0.108145  ... -0.005526 -0.002471 -0.002471\n",
              "3       0.005145 -0.178524 -0.053629  ... -0.002740 -0.001225 -0.001225\n",
              "4      -0.008004 -0.105051 -0.031558  ... -0.001612 -0.000721 -0.000721\n",
              "5      -0.024196 -0.079012 -0.023735  ... -0.001213 -0.000542 -0.000542\n",
              "6      -0.022251 -0.042816 -0.012862  ...  1.000000 -0.000294 -0.000294\n",
              "7      -0.009948 -0.019143 -0.005751  ... -0.000294  1.000000 -0.000131\n",
              "8      -0.009948 -0.019143 -0.005751  ... -0.000294 -0.000131  1.000000\n",
              "\n",
              "[10 rows x 10 columns]"
            ]
          },
          "metadata": {
            "tags": []
          }
        },
        {
          "output_type": "display_data",
          "data": {
            "image/png": "[encoded data removed]",
            "text/plain": [
              "<Figure size 432x288 with 2 Axes>"
            ]
          },
          "metadata": {
            "tags": []
          }
        },
        {
          "output_type": "display_data",
          "data": {
            "text/html": [
              "<div>\n",
              "<style scoped>\n",
              "    .dataframe tbody tr th:only-of-type {\n",
              "        vertical-align: middle;\n",
              "    }\n",
              "\n",
              "    .dataframe tbody tr th {\n",
              "        vertical-align: top;\n",
              "    }\n",
              "\n",
              "    .dataframe thead th {\n",
              "        text-align: right;\n",
              "    }\n",
              "</style>\n",
              "<table border=\"1\" class=\"dataframe\">\n",
              "  <thead>\n",
              "    <tr style=\"text-align: right;\">\n",
              "      <th></th>\n",
              "      <th>target</th>\n",
              "      <th>has_mention</th>\n",
              "    </tr>\n",
              "  </thead>\n",
              "  <tbody>\n",
              "    <tr>\n",
              "      <th>target</th>\n",
              "      <td>1.000000</td>\n",
              "      <td>-0.118716</td>\n",
              "    </tr>\n",
              "    <tr>\n",
              "      <th>has_mention</th>\n",
              "      <td>-0.118716</td>\n",
              "      <td>1.000000</td>\n",
              "    </tr>\n",
              "  </tbody>\n",
              "</table>\n",
              "</div>"
            ],
            "text/plain": [
              "               target  has_mention\n",
              "target       1.000000    -0.118716\n",
              "has_mention -0.118716     1.000000"
            ]
          },
          "metadata": {
            "tags": []
          }
        },
        {
          "output_type": "execute_result",
          "data": {
            "text/plain": [
              "<matplotlib.axes._subplots.AxesSubplot at 0x7f9b421ff110>"
            ]
          },
          "metadata": {
            "tags": []
          },
          "execution_count": 24
        },
        {
          "output_type": "display_data",
          "data": {
            "image/png": "[encoded data removed]",
            "text/plain": [
              "<Figure size 432x288 with 2 Axes>"
            ]
          },
          "metadata": {
            "tags": []
          }
        }
      ]
    },
    {
      "cell_type": "markdown",
      "metadata": {
        "id": "3cXKZMDy4_-3"
      },
      "source": [
        "すると、強いていうならメンションが1つもない物の方がターゲットになっていそうかもということが言えそうだが、微々たる物ように感じる。\n",
        "-> メンションがあるとターゲットの割合が下がる？"
      ]
    },
    {
      "cell_type": "markdown",
      "metadata": {
        "id": "JvHZ916o9-xF"
      },
      "source": [
        "## hashtagとtargetの関係"
      ]
    },
    {
      "cell_type": "code",
      "metadata": {
        "colab": {
          "base_uri": "https://localhost:8080/"
        },
        "id": "vOHtMKpA3RdF",
        "outputId": "4841187e-f80e-44c8-e0b4-dc25af661659"
      },
      "source": [
        "uniq_hashtag = set()\n",
        "\n",
        "for hashtags in text_hashtags:\n",
        "    for hashtag in hashtags:\n",
        "        uniq_hashtag.add(hashtag.lower())\n",
        "\n",
        "uniq_hashtag = list(uniq_hashtag)\n",
        "print(len(uniq_hashtag))"
      ],
      "execution_count": null,
      "outputs": [
        {
          "output_type": "stream",
          "text": [
            "1926\n"
          ],
          "name": "stdout"
        }
      ]
    },
    {
      "cell_type": "markdown",
      "metadata": {
        "id": "FE3F5j3w-MyG"
      },
      "source": [
        "約2000以上ものハッシュタグがある。ただ、ハッシュタグは大文字小文字などの違いをなくしても1923種類もあるようだ。"
      ]
    },
    {
      "cell_type": "code",
      "metadata": {
        "colab": {
          "base_uri": "https://localhost:8080/",
          "height": 391
        },
        "id": "Tf0cxSV9-fHt",
        "outputId": "fd691e94-02af-4e2f-c3f2-77b4a332d735"
      },
      "source": [
        "target_text_hashtags_corr = pd.concat([train.target, *[text_hashtags.apply(lambda hashtags: 1 if hashtag in hashtags else 0) for hashtag in uniq_hashtag]], axis=1, keys=['target', *uniq_hashtag]).corr()\n",
        "sns.heatmap(target_text_hashtags_corr, vmax=1, vmin=-1, center=0)\n"
      ],
      "execution_count": null,
      "outputs": [
        {
          "output_type": "execute_result",
          "data": {
            "text/plain": [
              "<matplotlib.axes._subplots.AxesSubplot at 0x7f9b4204c490>"
            ]
          },
          "metadata": {
            "tags": []
          },
          "execution_count": 26
        },
        {
          "output_type": "display_data",
          "data": {
            "image/png": "[encoded data removed]",
            "text/plain": [
              "<Figure size 432x288 with 2 Axes>"
            ]
          },
          "metadata": {
            "tags": []
          }
        }
      ]
    },
    {
      "cell_type": "code",
      "metadata": {
        "colab": {
          "base_uri": "https://localhost:8080/"
        },
        "id": "lez3-ha64tUf",
        "outputId": "d72a2c82-ccac-445f-e6d0-efa42260f079"
      },
      "source": [
        "target_text_hashtags_corr.target.reindex(target_text_hashtags_corr.target.abs().sort_values(ascending=False).index).head()"
      ],
      "execution_count": null,
      "outputs": [
        {
          "output_type": "execute_result",
          "data": {
            "text/plain": [
              "target        1.000000\n",
              "hiroshima     0.062025\n",
              "news          0.058908\n",
              "earthquake    0.057630\n",
              "japan         0.043827\n",
              "Name: target, dtype: float64"
            ]
          },
          "metadata": {
            "tags": []
          },
          "execution_count": 27
        }
      ]
    },
    {
      "cell_type": "markdown",
      "metadata": {
        "id": "SSFvF9LD_g2U"
      },
      "source": [
        "hashtagもtargetに対して関係性が深いと言えそうなものはなさそうだ"
      ]
    },
    {
      "cell_type": "code",
      "metadata": {
        "colab": {
          "base_uri": "https://localhost:8080/",
          "height": 1000
        },
        "id": "hZ9D7JG_9YLL",
        "outputId": "0fab1d6e-7d46-4166-9b27-ddd7b17f2380"
      },
      "source": [
        "max_hashtags = text_hashtags.apply(len).max()\n",
        "target_text_hashtag_count_corr = pd.concat([train.target, *[text_hashtags.apply(len).apply(lambda x: 1 if x==cnt else 0) for cnt in range(max_hashtags + 1)]], axis=1, keys=['target', *range(max_hashtags + 1)]).corr()\n",
        "\n",
        "display(target_text_hashtag_count_corr)\n",
        "sns.heatmap(target_text_hashtag_count_corr, vmax=1, vmin=-1, center=0)\n",
        "plt.show()\n",
        "\n",
        "target_text_hash_hashtag_corr = pd.concat([train.target, text_hashtags.apply(len).apply(lambda x: 1 if x > 0 else 0)], axis=1, keys=['target', 'has_hashtag']).corr()\n",
        "display(target_text_hash_hashtag_corr)\n",
        "sns.heatmap(target_text_hash_hashtag_corr, vmax=1, vmin=-1, center=0)"
      ],
      "execution_count": null,
      "outputs": [
        {
          "output_type": "display_data",
          "data": {
            "text/html": [
              "<div>\n",
              "<style scoped>\n",
              "    .dataframe tbody tr th:only-of-type {\n",
              "        vertical-align: middle;\n",
              "    }\n",
              "\n",
              "    .dataframe tbody tr th {\n",
              "        vertical-align: top;\n",
              "    }\n",
              "\n",
              "    .dataframe thead th {\n",
              "        text-align: right;\n",
              "    }\n",
              "</style>\n",
              "<table border=\"1\" class=\"dataframe\">\n",
              "  <thead>\n",
              "    <tr style=\"text-align: right;\">\n",
              "      <th></th>\n",
              "      <th>target</th>\n",
              "      <th>0</th>\n",
              "      <th>1</th>\n",
              "      <th>2</th>\n",
              "      <th>3</th>\n",
              "      <th>4</th>\n",
              "      <th>5</th>\n",
              "      <th>6</th>\n",
              "      <th>7</th>\n",
              "      <th>8</th>\n",
              "      <th>9</th>\n",
              "      <th>10</th>\n",
              "      <th>11</th>\n",
              "      <th>12</th>\n",
              "      <th>13</th>\n",
              "    </tr>\n",
              "  </thead>\n",
              "  <tbody>\n",
              "    <tr>\n",
              "      <th>target</th>\n",
              "      <td>1.000000</td>\n",
              "      <td>-0.068903</td>\n",
              "      <td>0.050913</td>\n",
              "      <td>0.039078</td>\n",
              "      <td>0.011902</td>\n",
              "      <td>-0.009678</td>\n",
              "      <td>0.019488</td>\n",
              "      <td>-0.020536</td>\n",
              "      <td>0.008688</td>\n",
              "      <td>0.029178</td>\n",
              "      <td>-0.014070</td>\n",
              "      <td>0.019806</td>\n",
              "      <td>-0.014070</td>\n",
              "      <td>NaN</td>\n",
              "      <td>0.026416</td>\n",
              "    </tr>\n",
              "    <tr>\n",
              "      <th>0</th>\n",
              "      <td>-0.068903</td>\n",
              "      <td>1.000000</td>\n",
              "      <td>-0.698764</td>\n",
              "      <td>-0.436134</td>\n",
              "      <td>-0.302976</td>\n",
              "      <td>-0.178056</td>\n",
              "      <td>-0.131686</td>\n",
              "      <td>-0.109483</td>\n",
              "      <td>-0.055673</td>\n",
              "      <td>-0.059520</td>\n",
              "      <td>-0.029748</td>\n",
              "      <td>-0.066555</td>\n",
              "      <td>-0.029748</td>\n",
              "      <td>NaN</td>\n",
              "      <td>-0.042076</td>\n",
              "    </tr>\n",
              "    <tr>\n",
              "      <th>1</th>\n",
              "      <td>0.050913</td>\n",
              "      <td>-0.698764</td>\n",
              "      <td>1.000000</td>\n",
              "      <td>-0.090492</td>\n",
              "      <td>-0.062863</td>\n",
              "      <td>-0.036944</td>\n",
              "      <td>-0.027323</td>\n",
              "      <td>-0.022716</td>\n",
              "      <td>-0.011551</td>\n",
              "      <td>-0.012350</td>\n",
              "      <td>-0.006172</td>\n",
              "      <td>-0.013809</td>\n",
              "      <td>-0.006172</td>\n",
              "      <td>NaN</td>\n",
              "      <td>-0.008730</td>\n",
              "    </tr>\n",
              "    <tr>\n",
              "      <th>2</th>\n",
              "      <td>0.039078</td>\n",
              "      <td>-0.436134</td>\n",
              "      <td>-0.090492</td>\n",
              "      <td>1.000000</td>\n",
              "      <td>-0.039236</td>\n",
              "      <td>-0.023059</td>\n",
              "      <td>-0.017054</td>\n",
              "      <td>-0.014178</td>\n",
              "      <td>-0.007210</td>\n",
              "      <td>-0.007708</td>\n",
              "      <td>-0.003853</td>\n",
              "      <td>-0.008619</td>\n",
              "      <td>-0.003853</td>\n",
              "      <td>NaN</td>\n",
              "      <td>-0.005449</td>\n",
              "    </tr>\n",
              "    <tr>\n",
              "      <th>3</th>\n",
              "      <td>0.011902</td>\n",
              "      <td>-0.302976</td>\n",
              "      <td>-0.062863</td>\n",
              "      <td>-0.039236</td>\n",
              "      <td>1.000000</td>\n",
              "      <td>-0.016019</td>\n",
              "      <td>-0.011847</td>\n",
              "      <td>-0.009849</td>\n",
              "      <td>-0.005009</td>\n",
              "      <td>-0.005355</td>\n",
              "      <td>-0.002676</td>\n",
              "      <td>-0.005987</td>\n",
              "      <td>-0.002676</td>\n",
              "      <td>NaN</td>\n",
              "      <td>-0.003785</td>\n",
              "    </tr>\n",
              "    <tr>\n",
              "      <th>4</th>\n",
              "      <td>-0.009678</td>\n",
              "      <td>-0.178056</td>\n",
              "      <td>-0.036944</td>\n",
              "      <td>-0.023059</td>\n",
              "      <td>-0.016019</td>\n",
              "      <td>1.000000</td>\n",
              "      <td>-0.006962</td>\n",
              "      <td>-0.005788</td>\n",
              "      <td>-0.002943</td>\n",
              "      <td>-0.003147</td>\n",
              "      <td>-0.001573</td>\n",
              "      <td>-0.003519</td>\n",
              "      <td>-0.001573</td>\n",
              "      <td>NaN</td>\n",
              "      <td>-0.002225</td>\n",
              "    </tr>\n",
              "    <tr>\n",
              "      <th>5</th>\n",
              "      <td>0.019488</td>\n",
              "      <td>-0.131686</td>\n",
              "      <td>-0.027323</td>\n",
              "      <td>-0.017054</td>\n",
              "      <td>-0.011847</td>\n",
              "      <td>-0.006962</td>\n",
              "      <td>1.000000</td>\n",
              "      <td>-0.004281</td>\n",
              "      <td>-0.002177</td>\n",
              "      <td>-0.002327</td>\n",
              "      <td>-0.001163</td>\n",
              "      <td>-0.002602</td>\n",
              "      <td>-0.001163</td>\n",
              "      <td>NaN</td>\n",
              "      <td>-0.001645</td>\n",
              "    </tr>\n",
              "    <tr>\n",
              "      <th>6</th>\n",
              "      <td>-0.020536</td>\n",
              "      <td>-0.109483</td>\n",
              "      <td>-0.022716</td>\n",
              "      <td>-0.014178</td>\n",
              "      <td>-0.009849</td>\n",
              "      <td>-0.005788</td>\n",
              "      <td>-0.004281</td>\n",
              "      <td>1.000000</td>\n",
              "      <td>-0.001810</td>\n",
              "      <td>-0.001935</td>\n",
              "      <td>-0.000967</td>\n",
              "      <td>-0.002164</td>\n",
              "      <td>-0.000967</td>\n",
              "      <td>NaN</td>\n",
              "      <td>-0.001368</td>\n",
              "    </tr>\n",
              "    <tr>\n",
              "      <th>7</th>\n",
              "      <td>0.008688</td>\n",
              "      <td>-0.055673</td>\n",
              "      <td>-0.011551</td>\n",
              "      <td>-0.007210</td>\n",
              "      <td>-0.005009</td>\n",
              "      <td>-0.002943</td>\n",
              "      <td>-0.002177</td>\n",
              "      <td>-0.001810</td>\n",
              "      <td>1.000000</td>\n",
              "      <td>-0.000984</td>\n",
              "      <td>-0.000492</td>\n",
              "      <td>-0.001100</td>\n",
              "      <td>-0.000492</td>\n",
              "      <td>NaN</td>\n",
              "      <td>-0.000696</td>\n",
              "    </tr>\n",
              "    <tr>\n",
              "      <th>8</th>\n",
              "      <td>0.029178</td>\n",
              "      <td>-0.059520</td>\n",
              "      <td>-0.012350</td>\n",
              "      <td>-0.007708</td>\n",
              "      <td>-0.005355</td>\n",
              "      <td>-0.003147</td>\n",
              "      <td>-0.002327</td>\n",
              "      <td>-0.001935</td>\n",
              "      <td>-0.000984</td>\n",
              "      <td>1.000000</td>\n",
              "      <td>-0.000526</td>\n",
              "      <td>-0.001176</td>\n",
              "      <td>-0.000526</td>\n",
              "      <td>NaN</td>\n",
              "      <td>-0.000744</td>\n",
              "    </tr>\n",
              "    <tr>\n",
              "      <th>9</th>\n",
              "      <td>-0.014070</td>\n",
              "      <td>-0.029748</td>\n",
              "      <td>-0.006172</td>\n",
              "      <td>-0.003853</td>\n",
              "      <td>-0.002676</td>\n",
              "      <td>-0.001573</td>\n",
              "      <td>-0.001163</td>\n",
              "      <td>-0.000967</td>\n",
              "      <td>-0.000492</td>\n",
              "      <td>-0.000526</td>\n",
              "      <td>1.000000</td>\n",
              "      <td>-0.000588</td>\n",
              "      <td>-0.000263</td>\n",
              "      <td>NaN</td>\n",
              "      <td>-0.000372</td>\n",
              "    </tr>\n",
              "    <tr>\n",
              "      <th>10</th>\n",
              "      <td>0.019806</td>\n",
              "      <td>-0.066555</td>\n",
              "      <td>-0.013809</td>\n",
              "      <td>-0.008619</td>\n",
              "      <td>-0.005987</td>\n",
              "      <td>-0.003519</td>\n",
              "      <td>-0.002602</td>\n",
              "      <td>-0.002164</td>\n",
              "      <td>-0.001100</td>\n",
              "      <td>-0.001176</td>\n",
              "      <td>-0.000588</td>\n",
              "      <td>1.000000</td>\n",
              "      <td>-0.000588</td>\n",
              "      <td>NaN</td>\n",
              "      <td>-0.000832</td>\n",
              "    </tr>\n",
              "    <tr>\n",
              "      <th>11</th>\n",
              "      <td>-0.014070</td>\n",
              "      <td>-0.029748</td>\n",
              "      <td>-0.006172</td>\n",
              "      <td>-0.003853</td>\n",
              "      <td>-0.002676</td>\n",
              "      <td>-0.001573</td>\n",
              "      <td>-0.001163</td>\n",
              "      <td>-0.000967</td>\n",
              "      <td>-0.000492</td>\n",
              "      <td>-0.000526</td>\n",
              "      <td>-0.000263</td>\n",
              "      <td>-0.000588</td>\n",
              "      <td>1.000000</td>\n",
              "      <td>NaN</td>\n",
              "      <td>-0.000372</td>\n",
              "    </tr>\n",
              "    <tr>\n",
              "      <th>12</th>\n",
              "      <td>NaN</td>\n",
              "      <td>NaN</td>\n",
              "      <td>NaN</td>\n",
              "      <td>NaN</td>\n",
              "      <td>NaN</td>\n",
              "      <td>NaN</td>\n",
              "      <td>NaN</td>\n",
              "      <td>NaN</td>\n",
              "      <td>NaN</td>\n",
              "      <td>NaN</td>\n",
              "      <td>NaN</td>\n",
              "      <td>NaN</td>\n",
              "      <td>NaN</td>\n",
              "      <td>NaN</td>\n",
              "      <td>NaN</td>\n",
              "    </tr>\n",
              "    <tr>\n",
              "      <th>13</th>\n",
              "      <td>0.026416</td>\n",
              "      <td>-0.042076</td>\n",
              "      <td>-0.008730</td>\n",
              "      <td>-0.005449</td>\n",
              "      <td>-0.003785</td>\n",
              "      <td>-0.002225</td>\n",
              "      <td>-0.001645</td>\n",
              "      <td>-0.001368</td>\n",
              "      <td>-0.000696</td>\n",
              "      <td>-0.000744</td>\n",
              "      <td>-0.000372</td>\n",
              "      <td>-0.000832</td>\n",
              "      <td>-0.000372</td>\n",
              "      <td>NaN</td>\n",
              "      <td>1.000000</td>\n",
              "    </tr>\n",
              "  </tbody>\n",
              "</table>\n",
              "</div>"
            ],
            "text/plain": [
              "          target         0         1  ...        11  12        13\n",
              "target  1.000000 -0.068903  0.050913  ... -0.014070 NaN  0.026416\n",
              "0      -0.068903  1.000000 -0.698764  ... -0.029748 NaN -0.042076\n",
              "1       0.050913 -0.698764  1.000000  ... -0.006172 NaN -0.008730\n",
              "2       0.039078 -0.436134 -0.090492  ... -0.003853 NaN -0.005449\n",
              "3       0.011902 -0.302976 -0.062863  ... -0.002676 NaN -0.003785\n",
              "4      -0.009678 -0.178056 -0.036944  ... -0.001573 NaN -0.002225\n",
              "5       0.019488 -0.131686 -0.027323  ... -0.001163 NaN -0.001645\n",
              "6      -0.020536 -0.109483 -0.022716  ... -0.000967 NaN -0.001368\n",
              "7       0.008688 -0.055673 -0.011551  ... -0.000492 NaN -0.000696\n",
              "8       0.029178 -0.059520 -0.012350  ... -0.000526 NaN -0.000744\n",
              "9      -0.014070 -0.029748 -0.006172  ... -0.000263 NaN -0.000372\n",
              "10      0.019806 -0.066555 -0.013809  ... -0.000588 NaN -0.000832\n",
              "11     -0.014070 -0.029748 -0.006172  ...  1.000000 NaN -0.000372\n",
              "12           NaN       NaN       NaN  ...       NaN NaN       NaN\n",
              "13      0.026416 -0.042076 -0.008730  ... -0.000372 NaN  1.000000\n",
              "\n",
              "[15 rows x 15 columns]"
            ]
          },
          "metadata": {
            "tags": []
          }
        },
        {
          "output_type": "display_data",
          "data": {
            "image/png": "[encoded data removed]",
            "text/plain": [
              "<Figure size 432x288 with 2 Axes>"
            ]
          },
          "metadata": {
            "tags": []
          }
        },
        {
          "output_type": "display_data",
          "data": {
            "text/html": [
              "<div>\n",
              "<style scoped>\n",
              "    .dataframe tbody tr th:only-of-type {\n",
              "        vertical-align: middle;\n",
              "    }\n",
              "\n",
              "    .dataframe tbody tr th {\n",
              "        vertical-align: top;\n",
              "    }\n",
              "\n",
              "    .dataframe thead th {\n",
              "        text-align: right;\n",
              "    }\n",
              "</style>\n",
              "<table border=\"1\" class=\"dataframe\">\n",
              "  <thead>\n",
              "    <tr style=\"text-align: right;\">\n",
              "      <th></th>\n",
              "      <th>target</th>\n",
              "      <th>has_hashtag</th>\n",
              "    </tr>\n",
              "  </thead>\n",
              "  <tbody>\n",
              "    <tr>\n",
              "      <th>target</th>\n",
              "      <td>1.000000</td>\n",
              "      <td>0.068903</td>\n",
              "    </tr>\n",
              "    <tr>\n",
              "      <th>has_hashtag</th>\n",
              "      <td>0.068903</td>\n",
              "      <td>1.000000</td>\n",
              "    </tr>\n",
              "  </tbody>\n",
              "</table>\n",
              "</div>"
            ],
            "text/plain": [
              "               target  has_hashtag\n",
              "target       1.000000     0.068903\n",
              "has_hashtag  0.068903     1.000000"
            ]
          },
          "metadata": {
            "tags": []
          }
        },
        {
          "output_type": "execute_result",
          "data": {
            "text/plain": [
              "<matplotlib.axes._subplots.AxesSubplot at 0x7f9b41ce4fd0>"
            ]
          },
          "metadata": {
            "tags": []
          },
          "execution_count": 28
        },
        {
          "output_type": "display_data",
          "data": {
            "image/png": "[encoded data removed]",
            "text/plain": [
              "<Figure size 432x288 with 2 Axes>"
            ]
          },
          "metadata": {
            "tags": []
          }
        }
      ]
    },
    {
      "cell_type": "markdown",
      "metadata": {
        "id": "ZAj1Dd8q_p_e"
      },
      "source": [
        "hashtagの個数についてもmentionの時と同じことが言えそうだ。"
      ]
    },
    {
      "cell_type": "markdown",
      "metadata": {
        "id": "3qvVNg9IAUti"
      },
      "source": [
        "## urlとtextの関係"
      ]
    },
    {
      "cell_type": "code",
      "metadata": {
        "colab": {
          "base_uri": "https://localhost:8080/",
          "height": 1000
        },
        "id": "o5DNMkOk_biZ",
        "outputId": "a42ddcbd-a1c7-4031-d946-b7aacd9efcb4"
      },
      "source": [
        "max_urls = text_url.apply(len).max()\n",
        "target_text_url_count_corr = pd.concat([train.target, *[text_url.apply(len).apply(lambda x: 1 if x==cnt else 0) for cnt in range(max_urls + 1)]], axis=1, keys=['target', *range(max_urls + 1)]).corr()\n",
        "\n",
        "text_url.apply(len).hist()\n",
        "plt.show()\n",
        "display(target_text_url_count_corr)\n",
        "sns.heatmap(target_text_url_count_corr, vmax=1, vmin=-1, center=0)\n",
        "plt.show()\n",
        "\n",
        "target_text_has_url_corr = pd.concat([train.target, text_url.apply(len).apply(lambda x: 1 if x > 0 else 0)], axis=1, keys=['target', 'has_url']).corr()\n",
        "\n",
        "display(target_text_has_url_corr)\n",
        "sns.heatmap(target_text_has_url_corr, vmax=1, vmin=-1, center=0)"
      ],
      "execution_count": null,
      "outputs": [
        {
          "output_type": "display_data",
          "data": {
            "image/png": "[encoded data removed]",
            "text/plain": [
              "<Figure size 432x288 with 1 Axes>"
            ]
          },
          "metadata": {
            "tags": []
          }
        },
        {
          "output_type": "display_data",
          "data": {
            "text/html": [
              "<div>\n",
              "<style scoped>\n",
              "    .dataframe tbody tr th:only-of-type {\n",
              "        vertical-align: middle;\n",
              "    }\n",
              "\n",
              "    .dataframe tbody tr th {\n",
              "        vertical-align: top;\n",
              "    }\n",
              "\n",
              "    .dataframe thead th {\n",
              "        text-align: right;\n",
              "    }\n",
              "</style>\n",
              "<table border=\"1\" class=\"dataframe\">\n",
              "  <thead>\n",
              "    <tr style=\"text-align: right;\">\n",
              "      <th></th>\n",
              "      <th>target</th>\n",
              "      <th>0</th>\n",
              "      <th>1</th>\n",
              "      <th>2</th>\n",
              "      <th>3</th>\n",
              "      <th>4</th>\n",
              "    </tr>\n",
              "  </thead>\n",
              "  <tbody>\n",
              "    <tr>\n",
              "      <th>target</th>\n",
              "      <td>1.000000</td>\n",
              "      <td>-0.247440</td>\n",
              "      <td>0.235534</td>\n",
              "      <td>0.026247</td>\n",
              "      <td>-0.002237</td>\n",
              "      <td>-0.017233</td>\n",
              "    </tr>\n",
              "    <tr>\n",
              "      <th>0</th>\n",
              "      <td>-0.247440</td>\n",
              "      <td>1.000000</td>\n",
              "      <td>-0.826328</td>\n",
              "      <td>-0.304025</td>\n",
              "      <td>-0.051556</td>\n",
              "      <td>-0.019015</td>\n",
              "    </tr>\n",
              "    <tr>\n",
              "      <th>1</th>\n",
              "      <td>0.235534</td>\n",
              "      <td>-0.826328</td>\n",
              "      <td>1.000000</td>\n",
              "      <td>-0.273919</td>\n",
              "      <td>-0.046451</td>\n",
              "      <td>-0.017132</td>\n",
              "    </tr>\n",
              "    <tr>\n",
              "      <th>2</th>\n",
              "      <td>0.026247</td>\n",
              "      <td>-0.304025</td>\n",
              "      <td>-0.273919</td>\n",
              "      <td>1.000000</td>\n",
              "      <td>-0.017090</td>\n",
              "      <td>-0.006303</td>\n",
              "    </tr>\n",
              "    <tr>\n",
              "      <th>3</th>\n",
              "      <td>-0.002237</td>\n",
              "      <td>-0.051556</td>\n",
              "      <td>-0.046451</td>\n",
              "      <td>-0.017090</td>\n",
              "      <td>1.000000</td>\n",
              "      <td>-0.001069</td>\n",
              "    </tr>\n",
              "    <tr>\n",
              "      <th>4</th>\n",
              "      <td>-0.017233</td>\n",
              "      <td>-0.019015</td>\n",
              "      <td>-0.017132</td>\n",
              "      <td>-0.006303</td>\n",
              "      <td>-0.001069</td>\n",
              "      <td>1.000000</td>\n",
              "    </tr>\n",
              "  </tbody>\n",
              "</table>\n",
              "</div>"
            ],
            "text/plain": [
              "          target         0         1         2         3         4\n",
              "target  1.000000 -0.247440  0.235534  0.026247 -0.002237 -0.017233\n",
              "0      -0.247440  1.000000 -0.826328 -0.304025 -0.051556 -0.019015\n",
              "1       0.235534 -0.826328  1.000000 -0.273919 -0.046451 -0.017132\n",
              "2       0.026247 -0.304025 -0.273919  1.000000 -0.017090 -0.006303\n",
              "3      -0.002237 -0.051556 -0.046451 -0.017090  1.000000 -0.001069\n",
              "4      -0.017233 -0.019015 -0.017132 -0.006303 -0.001069  1.000000"
            ]
          },
          "metadata": {
            "tags": []
          }
        },
        {
          "output_type": "display_data",
          "data": {
            "image/png": "[encoded data removed]",
            "text/plain": [
              "<Figure size 432x288 with 2 Axes>"
            ]
          },
          "metadata": {
            "tags": []
          }
        },
        {
          "output_type": "display_data",
          "data": {
            "text/html": [
              "<div>\n",
              "<style scoped>\n",
              "    .dataframe tbody tr th:only-of-type {\n",
              "        vertical-align: middle;\n",
              "    }\n",
              "\n",
              "    .dataframe tbody tr th {\n",
              "        vertical-align: top;\n",
              "    }\n",
              "\n",
              "    .dataframe thead th {\n",
              "        text-align: right;\n",
              "    }\n",
              "</style>\n",
              "<table border=\"1\" class=\"dataframe\">\n",
              "  <thead>\n",
              "    <tr style=\"text-align: right;\">\n",
              "      <th></th>\n",
              "      <th>target</th>\n",
              "      <th>has_url</th>\n",
              "    </tr>\n",
              "  </thead>\n",
              "  <tbody>\n",
              "    <tr>\n",
              "      <th>target</th>\n",
              "      <td>1.00000</td>\n",
              "      <td>0.24744</td>\n",
              "    </tr>\n",
              "    <tr>\n",
              "      <th>has_url</th>\n",
              "      <td>0.24744</td>\n",
              "      <td>1.00000</td>\n",
              "    </tr>\n",
              "  </tbody>\n",
              "</table>\n",
              "</div>"
            ],
            "text/plain": [
              "          target  has_url\n",
              "target   1.00000  0.24744\n",
              "has_url  0.24744  1.00000"
            ]
          },
          "metadata": {
            "tags": []
          }
        },
        {
          "output_type": "execute_result",
          "data": {
            "text/plain": [
              "<matplotlib.axes._subplots.AxesSubplot at 0x7f9b41bb4e50>"
            ]
          },
          "metadata": {
            "tags": []
          },
          "execution_count": 29
        },
        {
          "output_type": "display_data",
          "data": {
            "image/png": "[encoded data removed]",
            "text/plain": [
              "<Figure size 432x288 with 2 Axes>"
            ]
          },
          "metadata": {
            "tags": []
          }
        }
      ]
    },
    {
      "cell_type": "markdown",
      "metadata": {
        "id": "D3e8MFORAqMW"
      },
      "source": [
        "おお？\n",
        "\n",
        "urlが\n",
        "- 0個だと`target`に負の傾向がある\n",
        "- 1個だと`target`に正の傾向がある\n",
        "\n",
        "ことが言えそうだ。"
      ]
    },
    {
      "cell_type": "markdown",
      "metadata": {
        "id": "1shABBIaCSm5"
      },
      "source": [
        "## textのクリーンアップ\n",
        "\n",
        "textに含まれているhashタグやurl、メンションを削除する"
      ]
    },
    {
      "cell_type": "code",
      "metadata": {
        "colab": {
          "base_uri": "https://localhost:8080/"
        },
        "id": "Ai5pfX7hAla-",
        "outputId": "badbbf58-c3b9-460e-8508-8c81bb1251cb"
      },
      "source": [
        "def text_remove_mention_url_hash(text: str):\n",
        "    return text_remove_hashtags(text_remove_mentions(text_remove_url(text.replace('\\n', ' '))))\n",
        "\n",
        "removed_text = train.text.apply(text_remove_mention_url_hash)\n",
        "\n",
        "for i, (t1, t2) in enumerate(zip(train.text, removed_text)):\n",
        "    if i > 100:\n",
        "        break\n",
        "    print(t1)\n",
        "    print(t2)\n",
        "    print()"
      ],
      "execution_count": null,
      "outputs": [
        {
          "output_type": "stream",
          "text": [
            "Our Deeds are the Reason of this #earthquake May ALLAH Forgive us all\n",
            "Our Deeds are the Reason of this  May ALLAH Forgive us all\n",
            "\n",
            "Forest fire near La Ronge Sask. Canada\n",
            "Forest fire near La Ronge Sask. Canada\n",
            "\n",
            "All residents asked to 'shelter in place' are being notified by officers. No other evacuation or shelter in place orders are expected\n",
            "All residents asked to 'shelter in place' are being notified by officers. No other evacuation or shelter in place orders are expected\n",
            "\n",
            "13,000 people receive #wildfires evacuation orders in California \n",
            "13,000 people receive  evacuation orders in California \n",
            "\n",
            "Just got sent this photo from Ruby #Alaska as smoke from #wildfires pours into a school \n",
            "Just got sent this photo from Ruby  as smoke from  pours into a school \n",
            "\n",
            "#RockyFire Update => California Hwy. 20 closed in both directions due to Lake County fire - #CAfire #wildfires\n",
            " Update => California Hwy. 20 closed in both directions due to Lake County fire -  \n",
            "\n",
            "#flood #disaster Heavy rain causes flash flooding of streets in Manitou, Colorado Springs areas\n",
            "  Heavy rain causes flash flooding of streets in Manitou, Colorado Springs areas\n",
            "\n",
            "I'm on top of the hill and I can see a fire in the woods...\n",
            "I'm on top of the hill and I can see a fire in the woods...\n",
            "\n",
            "There's an emergency evacuation happening now in the building across the street\n",
            "There's an emergency evacuation happening now in the building across the street\n",
            "\n",
            "I'm afraid that the tornado is coming to our area...\n",
            "I'm afraid that the tornado is coming to our area...\n",
            "\n",
            "Three people died from the heat wave so far\n",
            "Three people died from the heat wave so far\n",
            "\n",
            "Haha South Tampa is getting flooded hah- WAIT A SECOND I LIVE IN SOUTH TAMPA WHAT AM I GONNA DO WHAT AM I GONNA DO FVCK #flooding\n",
            "Haha South Tampa is getting flooded hah- WAIT A SECOND I LIVE IN SOUTH TAMPA WHAT AM I GONNA DO WHAT AM I GONNA DO FVCK \n",
            "\n",
            "#raining #flooding #Florida #TampaBay #Tampa 18 or 19 days. I've lost count \n",
            "     18 or 19 days. I've lost count \n",
            "\n",
            "#Flood in Bago Myanmar #We arrived Bago\n",
            " in Bago Myanmar  arrived Bago\n",
            "\n",
            "Damage to school bus on 80 in multi car crash #BREAKING \n",
            "Damage to school bus on 80 in multi car crash  \n",
            "\n",
            "What's up man?\n",
            "What's up man?\n",
            "\n",
            "I love fruits\n",
            "I love fruits\n",
            "\n",
            "Summer is lovely\n",
            "Summer is lovely\n",
            "\n",
            "My car is so fast\n",
            "My car is so fast\n",
            "\n",
            "What a goooooooaaaaaal!!!!!!\n",
            "What a goooooooaaaaaal!!!!!!\n",
            "\n",
            "this is ridiculous....\n",
            "this is ridiculous....\n",
            "\n",
            "London is cool ;)\n",
            "London is cool ;)\n",
            "\n",
            "Love skiing\n",
            "Love skiing\n",
            "\n",
            "What a wonderful day!\n",
            "What a wonderful day!\n",
            "\n",
            "LOOOOOOL\n",
            "LOOOOOOL\n",
            "\n",
            "No way...I can't eat that shit\n",
            "No way...I can't eat that shit\n",
            "\n",
            "Was in NYC last week!\n",
            "Was in NYC last week!\n",
            "\n",
            "Love my girlfriend\n",
            "Love my girlfriend\n",
            "\n",
            "Cooool :)\n",
            "Cooool :)\n",
            "\n",
            "Do you like pasta?\n",
            "Do you like pasta?\n",
            "\n",
            "The end!\n",
            "The end!\n",
            "\n",
            "@bbcmtd Wholesale Markets ablaze http://t.co/lHYXEOHY6C\n",
            " Wholesale Markets ablaze \n",
            "\n",
            "We always try to bring the heavy. #metal #RT http://t.co/YAo1e0xngw\n",
            "We always try to bring the heavy.   \n",
            "\n",
            "#AFRICANBAZE: Breaking news:Nigeria flag set ablaze in Aba. http://t.co/2nndBGwyEi\n",
            ": Breaking news:Nigeria flag set ablaze in Aba. \n",
            "\n",
            "Crying out for more! Set me ablaze\n",
            "Crying out for more! Set me ablaze\n",
            "\n",
            "On plus side LOOK AT THE SKY LAST NIGHT IT WAS ABLAZE http://t.co/qqsmshaJ3N\n",
            "On plus side LOOK AT THE SKY LAST NIGHT IT WAS ABLAZE \n",
            "\n",
            "@PhDSquares #mufc they've built so much hype around new acquisitions but I doubt they will set the EPL ablaze this season.\n",
            "  they've built so much hype around new acquisitions but I doubt they will set the EPL ablaze this season.\n",
            "\n",
            "INEC Office in Abia Set Ablaze - http://t.co/3ImaomknnA\n",
            "INEC Office in Abia Set Ablaze - \n",
            "\n",
            "Barbados #Bridgetown JAMAICA ÛÒ Two cars set ablaze: SANTA CRUZ ÛÓ Head of the St Elizabeth Police Superintende...  http://t.co/wDUEaj8Q4J\n",
            "Barbados  JAMAICA ÛÒ Two cars set ablaze: SANTA CRUZ ÛÓ Head of the St Elizabeth Police Superintende...  \n",
            "\n",
            "Ablaze for you Lord :D\n",
            "Ablaze for you Lord :D\n",
            "\n",
            "Check these out: http://t.co/rOI2NSmEJJ http://t.co/3Tj8ZjiN21 http://t.co/YDUiXEfIpE http://t.co/LxTjc87KLS #nsfw\n",
            "Check these out:     \n",
            "\n",
            "on the outside you're ablaze and alive\n",
            "but you're dead inside\n",
            "on the outside you're ablaze and alive but you're dead inside\n",
            "\n",
            "Had an awesome time visiting the CFC head office the ancop site and ablaze. Thanks to Tita Vida for taking care of us ??\n",
            "Had an awesome time visiting the CFC head office the ancop site and ablaze. Thanks to Tita Vida for taking care of us ??\n",
            "\n",
            "SOOOO PUMPED FOR ABLAZE ???? @southridgelife\n",
            "SOOOO PUMPED FOR ABLAZE ???? \n",
            "\n",
            "I wanted to set Chicago ablaze with my preaching... But not my hotel! http://t.co/o9qknbfOFX\n",
            "I wanted to set Chicago ablaze with my preaching... But not my hotel! \n",
            "\n",
            "I gained 3 followers in the last week. You? Know your stats and grow with http://t.co/TIyUliF5c6\n",
            "I gained 3 followers in the last week. You? Know your stats and grow with \n",
            "\n",
            "How the West was burned: Thousands of wildfires ablaze in California alone http://t.co/vl5TBR3wbr\n",
            "How the West was burned: Thousands of wildfires ablaze in California alone \n",
            "\n",
            "Building the perfect tracklist to life leave the streets ablaze\n",
            "Building the perfect tracklist to life leave the streets ablaze\n",
            "\n",
            "Check these out: http://t.co/rOI2NSmEJJ http://t.co/3Tj8ZjiN21 http://t.co/YDUiXEfIpE http://t.co/LxTjc87KLS #nsfw\n",
            "Check these out:     \n",
            "\n",
            "First night with retainers in. It's quite weird. Better get used to it; I have to wear them every single night for the next year at least.\n",
            "First night with retainers in. It's quite weird. Better get used to it; I have to wear them every single night for the next year at least.\n",
            "\n",
            "Deputies: Man shot before Brighton home set ablaze http://t.co/gWNRhMSO8k\n",
            "Deputies: Man shot before Brighton home set ablaze \n",
            "\n",
            "Man wife get six years jail for setting ablaze niece\n",
            "http://t.co/eV1ahOUCZA\n",
            "Man wife get six years jail for setting ablaze niece \n",
            "\n",
            "SANTA CRUZ ÛÓ Head of the St Elizabeth Police Superintendent Lanford Salmon has r ... - http://t.co/vplR5Hka2u http://t.co/SxHW2TNNLf\n",
            "SANTA CRUZ ÛÓ Head of the St Elizabeth Police Superintendent Lanford Salmon has r ... -  \n",
            "\n",
            "Police: Arsonist Deliberately Set Black Church In North CarolinaåÊAblaze http://t.co/pcXarbH9An\n",
            "Police: Arsonist Deliberately Set Black Church In North CarolinaåÊAblaze \n",
            "\n",
            "Noches El-Bestia '@Alexis_Sanchez: happy to see my teammates and training hard ?? goodnight gunners.?????? http://t.co/uc4j4jHvGR'\n",
            "Noches El-Bestia ': happy to see my teammates and training hard ?? goodnight gunners.?????? '\n",
            "\n",
            "#Kurds trampling on Turkmen flag later set it ablaze while others vandalized offices of Turkmen Front in #Diyala http://t.co/4IzFdYC3cg\n",
            " trampling on Turkmen flag later set it ablaze while others vandalized offices of Turkmen Front in  \n",
            "\n",
            "TRUCK ABLAZE : R21. VOORTREKKER AVE. OUTSIDE OR TAMBO INTL. CARGO SECTION. http://t.co/8kscqKfKkF\n",
            "TRUCK ABLAZE : R21. VOORTREKKER AVE. OUTSIDE OR TAMBO INTL. CARGO SECTION. \n",
            "\n",
            "Set our hearts ablaze and every city was a gift And every skyline was like a kiss upon the lips @Û_ https://t.co/cYoMPZ1A0Z\n",
            "Set our hearts ablaze and every city was a gift And every skyline was like a kiss upon the lips @Û_ \n",
            "\n",
            "They sky was ablaze tonight in Los Angeles. I'm expecting IG and FB to be filled with sunset shots if I know my peeps!!\n",
            "They sky was ablaze tonight in Los Angeles. I'm expecting IG and FB to be filled with sunset shots if I know my peeps!!\n",
            "\n",
            "How the West was burned: Thousands of wildfires ablaze in #California alone http://t.co/iCSjGZ9tE1 #climate #energy http://t.co/9FxmN0l0Bd\n",
            "How the West was burned: Thousands of wildfires ablaze in  alone    \n",
            "\n",
            "Revel in yours wmv videos by means of mac farewell ablaze wmv en route to dvd: GtxRWm\n",
            "Revel in yours wmv videos by means of mac farewell ablaze wmv en route to dvd: GtxRWm\n",
            "\n",
            "Progressive greetings!\n",
            "\n",
            "In about a month students would have set their pens ablaze in The Torch Publications'... http://t.co/9FxPiXQuJt\n",
            "Progressive greetings!  In about a month students would have set their pens ablaze in The Torch Publications'... \n",
            "\n",
            "Rene Ablaze &amp; Jacinta - Secret 2k13 (Fallen Skies Edit) - Mar 30 2013  https://t.co/7MLMsUzV1Z\n",
            "Rene Ablaze &amp; Jacinta - Secret 2k13 (Fallen Skies Edit) - Mar 30 2013  \n",
            "\n",
            "@Navista7 Steve these fires out here are something else! California is a tinderbox - and this clown was setting my 'hood ablaze @News24680\n",
            " Steve these fires out here are something else! California is a tinderbox - and this clown was setting my 'hood ablaze \n",
            "\n",
            "#NowPlaying: Rene Ablaze &amp; Ian Buff - Magnitude http://t.co/Av2JSjfFtc  #EDM\n",
            ": Rene Ablaze &amp; Ian Buff - Magnitude   \n",
            "\n",
            "@nxwestmidlands huge fire at Wholesale markets ablaze http://t.co/rwzbFVNXER\n",
            " huge fire at Wholesale markets ablaze \n",
            "\n",
            "@ablaze what time does your talk go until? I don't know if I can make it due to work.\n",
            " what time does your talk go until? I don't know if I can make it due to work.\n",
            "\n",
            "'I can't have kids cuz I got in a bicycle accident &amp; split my testicles. it's impossible for me to have kids' MICHAEL YOU ARE THE FATHER\n",
            "'I can't have kids cuz I got in a bicycle accident &amp; split my testicles. it's impossible for me to have kids' MICHAEL YOU ARE THE FATHER\n",
            "\n",
            "Accident on I-24 W #NashvilleTraffic. Traffic moving 8m slower than usual. https://t.co/0GHk693EgJ\n",
            "Accident on I-24 W . Traffic moving 8m slower than usual. \n",
            "\n",
            "Accident center lane blocked in #SantaClara on US-101 NB before Great America Pkwy #BayArea #Traffic http://t.co/pmlOhZuRWR\n",
            "Accident center lane blocked in  on US-101 NB before Great America Pkwy   \n",
            "\n",
            "http://t.co/GKYe6gjTk5 Had a #personalinjury accident this summer? Read our advice &amp; see how a #solicitor can help #OtleyHour\n",
            " Had a  accident this summer? Read our advice &amp; see how a  can help \n",
            "\n",
            "#stlouis #caraccidentlawyer Speeding Among Top Causes of Teen Accidents https://t.co/k4zoMOF319 https://t.co/S2kXVM0cBA Car Accident teeÛ_\n",
            "  Speeding Among Top Causes of Teen Accidents   Car Accident teeÛ_\n",
            "\n",
            "Reported motor vehicle accident in Curry on Herman Rd near Stephenson involving an overturned vehicle. Please use... http://t.co/YbJezKuRW1\n",
            "Reported motor vehicle accident in Curry on Herman Rd near Stephenson involving an overturned vehicle. Please use... \n",
            "\n",
            "BigRigRadio Live Accident Awareness\n",
            "BigRigRadio Live Accident Awareness\n",
            "\n",
            "I-77 Mile Marker 31 South Mooresville  Iredell Vehicle Accident Ramp Closed at 8/6 1:18 PM\n",
            "I-77 Mile Marker 31 South Mooresville  Iredell Vehicle Accident Ramp Closed at 8/6 1:18 PM\n",
            "\n",
            "RT @SleepJunkies: Sleeping pills double your risk of a car accident http://t.co/7s9Nm1fiCT\n",
            "RT : Sleeping pills double your risk of a car accident \n",
            "\n",
            "'By accident' they knew what was gon happen https://t.co/Ysxun5vCeh\n",
            "'By accident' they knew what was gon happen \n",
            "\n",
            "Traffic accident N CABRILLO HWY/MAGELLAN AV MIR (08/06/15 11:03:58)\n",
            "Traffic accident N CABRILLO HWY/MAGELLAN AV MIR (08/06/15 11:03:58)\n",
            "\n",
            "I-77 Mile Marker 31 to 40 South Mooresville  Iredell Vehicle Accident Congestion at 8/6 1:18 PM\n",
            "I-77 Mile Marker 31 to 40 South Mooresville  Iredell Vehicle Accident Congestion at 8/6 1:18 PM\n",
            "\n",
            "the pastor was not in the scene of the accident......who was the owner of the range rover ?\n",
            "the pastor was not in the scene of the accident......who was the owner of the range rover ?\n",
            "\n",
            "mom: 'we didn't get home as fast as we wished' \n",
            "me: 'why is that?'\n",
            "mom: 'there was an accident and some truck spilt mayonnaise all over ??????\n",
            "mom: 'we didn't get home as fast as we wished'  me: 'why is that?' mom: 'there was an accident and some truck spilt mayonnaise all over ??????\n",
            "\n",
            "I was in a horrible car accident this past Sunday. I'm finally able to get around. Thank you GOD??\n",
            "I was in a horrible car accident this past Sunday. I'm finally able to get around. Thank you GOD??\n",
            "\n",
            "Can wait to see how pissed Donnie is when I tell him I was in ANOTHER accident??\n",
            "Can wait to see how pissed Donnie is when I tell him I was in ANOTHER accident??\n",
            "\n",
            "#TruckCrash Overturns On #FortWorth Interstate http://t.co/Rs22LJ4qFp Click here if you've been in a crash&gt;http://t.co/Ld0unIYw4k\n",
            " Overturns On  Interstate  Click here if you've been in a crash&gt;\n",
            "\n",
            "Accident in #Ashville on US 23 SB before SR 752 #traffic http://t.co/hylMo0WgFI\n",
            "Accident in  on US 23 SB before SR 752  \n",
            "\n",
            "Carolina accident: Motorcyclist Dies in I-540 Crash With Car That Crossed Median: A motorcycle rider traveling... http://t.co/p18lzRlmy6\n",
            "Carolina accident: Motorcyclist Dies in I-540 Crash With Car That Crossed Median: A motorcycle rider traveling... \n",
            "\n",
            "FYI CAD:FYI: ;ACCIDENT PROPERTY DAMAGE;NHS;999 PINER RD/HORNDALE DR\n",
            "FYI CAD:FYI: ;ACCIDENT PROPERTY DAMAGE;NHS;999 PINER RD/HORNDALE DR\n",
            "\n",
            "RT nAAYf: First accident in years. Turning onto Chandanee Magu from near MMA. Taxi rammed into me while I was halfway turned. Everyone confÛ_\n",
            "RT nAAYf: First accident in years. Turning onto Chandanee Magu from near MMA. Taxi rammed into me while I was halfway turned. Everyone confÛ_\n",
            "\n",
            "Accident left lane blocked in #Manchester on Rt 293 NB before Eddy Rd stop and go traffic back to NH-3A delay of 4 mins #traffic\n",
            "Accident left lane blocked in  on Rt 293 NB before Eddy Rd stop and go traffic back to NH-3A delay of 4 mins \n",
            "\n",
            ";ACCIDENT PROPERTY DAMAGE; PINER RD/HORNDALE DR\n",
            ";ACCIDENT PROPERTY DAMAGE; PINER RD/HORNDALE DR\n",
            "\n",
            "???? it was an accident http://t.co/Oia5fxi4gM\n",
            "???? it was an accident \n",
            "\n",
            "FYI CAD:FYI: ;ACCIDENT PROPERTY DAMAGE;WPD;1600 S 17TH ST\n",
            "FYI CAD:FYI: ;ACCIDENT PROPERTY DAMAGE;WPD;1600 S 17TH ST\n",
            "\n",
            "8/6/2015@2:09 PM: TRAFFIC ACCIDENT NO INJURY at 2781 WILLIS FOREMAN RD http://t.co/VCkIT6EDEv\n",
            "8/6/2015:09 PM: TRAFFIC ACCIDENT NO INJURY at 2781 WILLIS FOREMAN RD \n",
            "\n",
            "Aashiqui Actress Anu Aggarwal On Her Near-Fatal Accident http://t.co/6Otfp31LqW\n",
            "Aashiqui Actress Anu Aggarwal On Her Near-Fatal Accident \n",
            "\n",
            "Suffield Alberta Accident https://t.co/bPTmlF4P10\n",
            "Suffield Alberta Accident \n",
            "\n",
            "9 Mile backup on I-77 South...accident blocking the Right 2 Lanes at Exit 31 Langtree Rd...consider NC 115 or NC 150 to NC 16 as alternate\n",
            "9 Mile backup on I-77 South...accident blocking the Right 2 Lanes at Exit 31 Langtree Rd...consider NC 115 or NC 150 to NC 16 as alternate\n",
            "\n",
            "Has an accident changed your life? We will help you determine options that can financially support life care plans and on-going treatment.\n",
            "Has an accident changed your life? We will help you determine options that can financially support life care plans and on-going treatment.\n",
            "\n",
            "#BREAKING: there was a deadly motorcycle car accident that happened to #Hagerstown today. I'll have more details at 5 @Your4State. #WHAG\n",
            ": there was a deadly motorcycle car accident that happened to  today. I'll have more details at 5 . \n",
            "\n",
            "@flowri were you marinading it or was it an accident?\n",
            " were you marinading it or was it an accident?\n",
            "\n",
            "only had a car for not even a week and got in a fucking car accident .. Mfs can't fucking drive .\n",
            "only had a car for not even a week and got in a fucking car accident .. Mfs can't fucking drive .\n",
            "\n",
            ".@NorwayMFA #Bahrain police had previously died in a road accident they were not killed by explosion https://t.co/gFJfgTodad\n",
            ".  police had previously died in a road accident they were not killed by explosion \n",
            "\n"
          ],
          "name": "stdout"
        }
      ]
    },
    {
      "cell_type": "markdown",
      "metadata": {
        "id": "7gfaP6SsWZVo"
      },
      "source": [
        "# 分析１"
      ]
    },
    {
      "cell_type": "markdown",
      "metadata": {
        "id": "E57UQuRjFs8s"
      },
      "source": [
        "## ルールベースで分類\n",
        "\n",
        "hashtagとmentionでその値があるかないかでtargetの割合が大きく変わるものをピックアップする。"
      ]
    },
    {
      "cell_type": "code",
      "metadata": {
        "colab": {
          "base_uri": "https://localhost:8080/"
        },
        "id": "4g-BCpvZLkcH",
        "outputId": "b99113dc-5133-4f89-b23b-26d2baa1fde8"
      },
      "source": [
        "target_1_hashtag = set()\n",
        "target_0_hashtag = set()\n",
        "\n",
        "for hashtag in uniq_hashtag:\n",
        "    _temp = train[text_hashtags.apply(lambda x: hashtag in x)]\n",
        "    if len(_temp) < 4:\n",
        "        continue\n",
        "    score = (_temp.target.mean() - 0.5) * 2\n",
        "    if score >= 0.7:\n",
        "        target_1_hashtag.add(hashtag)\n",
        "    if score <= -0.7:\n",
        "        target_0_hashtag.add(hashtag)\n",
        "\n",
        "print('target_1_hashtag')\n",
        "print(target_1_hashtag)\n",
        "print('\\ntarget_0_hashtag')\n",
        "print(target_0_hashtag)"
      ],
      "execution_count": null,
      "outputs": [
        {
          "output_type": "stream",
          "text": [
            "target_1_hashtag\n",
            "{'breaking', 'hailstorm', 'fukushima', 'newyork', 'hostages', 'disaster', 'worldnews', 'rockyfire', 'africa', 'myanmar', 'flood', 'wildfire', 'genocide', 'japan', 'yyc', 'mumbai', 'rohingya', 'wx', 'antioch', 'mh370', 'sandiego', 'sismo', 'earthquake', 'jap', 'wildfires', 'terrorist', 'weather', 'abstorm', 'libya', 'accident', 'india', 'manchester', 'zionist', 'hiroshima', 'bestnaijamade', 'science', 'okwx', 'socialnews', 'sittwe', 'idfire'}\n",
            "\n",
            "target_0_hashtag\n",
            "{'hiring', 'ices', 'directioners', 'jobs', 'job', 'nsfw', 'mayhem', 'beyhive', 'bb17', 'trapmusic', 'chemical', 'mtvhottest', 'soundcloud', 'bluejays', 'dubstep', 'dnb', 'handbag', '7', 'dependency', 'edm', 'military', 'ramag', 'fashion', 'animalrescue', 'dance', 'summerfate', 'models', 'technology', 'np', 'free', 'nowplaying', 'emmerdale', 'kindle'}\n"
          ],
          "name": "stdout"
        }
      ]
    },
    {
      "cell_type": "code",
      "metadata": {
        "colab": {
          "base_uri": "https://localhost:8080/"
        },
        "id": "vNxBunymVFej",
        "outputId": "0fb8b429-e31c-4313-ab62-6ccbba904d5e"
      },
      "source": [
        "target_1_mention = set()\n",
        "target_0_mention = set()\n",
        "\n",
        "for mention in uniq_mention:\n",
        "    _temp = train[text_mentions.apply(lambda x: mention in x)]\n",
        "    if len(_temp) < 4:\n",
        "        continue\n",
        "    score = (_temp.target.mean() - 0.5) * 2\n",
        "    if score >= 0.7:\n",
        "        target_1_mention.add(mention)\n",
        "    if score <= -0.7:\n",
        "        target_0_mention.add(mention)\n",
        "\n",
        "print('target_1_mention')\n",
        "print(target_1_mention)\n",
        "print('\\ntarget_0_mention')\n",
        "print(target_0_mention)"
      ],
      "execution_count": null,
      "outputs": [
        {
          "output_type": "stream",
          "text": [
            "target_1_mention\n",
            "{'unsuckdcmetro', 'USAgov', 'FoxNews', 'AP'}\n",
            "\n",
            "target_0_mention\n",
            "{'MikeParrActor', 'LoneWolffur', 'Grazed', 'DiamondKesawn', 'RaynbowAffair', 'justinbieber', 'local_arsonist', 'ArianaGrande', 'emmerdale', 'djicemoon', 'worldnetdaily', 'invalid'}\n"
          ],
          "name": "stdout"
        }
      ]
    },
    {
      "cell_type": "markdown",
      "metadata": {
        "id": "bdNHuv25WXBj"
      },
      "source": [
        "ルール->\n",
        "\n",
        "- hashtagの内1つでも`target_1_hashtag`に存在すれば１（もしくは０)\n",
        "- mentionの内1つでも`target_1_mention`に存在すれば1（もしくは０）\n",
        "- それ以外は乱数が0.5以上なら1"
      ]
    },
    {
      "cell_type": "code",
      "metadata": {
        "colab": {
          "background_save": true,
          "base_uri": "https://localhost:8080/",
          "height": 419
        },
        "id": "RLzKD16_JnXQ",
        "outputId": "9df915e2-6e8d-47d5-beea-4733a30518de"
      },
      "source": [
        "import random\n",
        "\n",
        "def rule1(text):\n",
        "    if any((hashtag in target_1_hashtag for hashtag in text_to_hashtags(text))):\n",
        "        return 1\n",
        "    if any((hashtag in target_0_hashtag for hashtag in text_to_hashtags(text))):\n",
        "        return 0\n",
        "    if any((mention in target_1_mention for mention in text_to_mentions(text))):\n",
        "        return 1\n",
        "    if any((mention in target_0_mention for mention in text_to_mentions(text))):\n",
        "        return 0\n",
        "    return random.randint(0,1)\n",
        "\n",
        "result1 = pd.DataFrame({'id': test.id, 'target': test.text.apply(rule1)})\n",
        "result1.to_csv('./submission_1.csv', index=False)\n",
        "display(result1)"
      ],
      "execution_count": null,
      "outputs": [
        {
          "output_type": "display_data",
          "data": {
            "text/html": [
              "<div>\n",
              "<style scoped>\n",
              "    .dataframe tbody tr th:only-of-type {\n",
              "        vertical-align: middle;\n",
              "    }\n",
              "\n",
              "    .dataframe tbody tr th {\n",
              "        vertical-align: top;\n",
              "    }\n",
              "\n",
              "    .dataframe thead th {\n",
              "        text-align: right;\n",
              "    }\n",
              "</style>\n",
              "<table border=\"1\" class=\"dataframe\">\n",
              "  <thead>\n",
              "    <tr style=\"text-align: right;\">\n",
              "      <th></th>\n",
              "      <th>id</th>\n",
              "      <th>target</th>\n",
              "    </tr>\n",
              "  </thead>\n",
              "  <tbody>\n",
              "    <tr>\n",
              "      <th>0</th>\n",
              "      <td>0</td>\n",
              "      <td>1</td>\n",
              "    </tr>\n",
              "    <tr>\n",
              "      <th>1</th>\n",
              "      <td>2</td>\n",
              "      <td>1</td>\n",
              "    </tr>\n",
              "    <tr>\n",
              "      <th>2</th>\n",
              "      <td>3</td>\n",
              "      <td>1</td>\n",
              "    </tr>\n",
              "    <tr>\n",
              "      <th>3</th>\n",
              "      <td>9</td>\n",
              "      <td>1</td>\n",
              "    </tr>\n",
              "    <tr>\n",
              "      <th>4</th>\n",
              "      <td>11</td>\n",
              "      <td>1</td>\n",
              "    </tr>\n",
              "    <tr>\n",
              "      <th>...</th>\n",
              "      <td>...</td>\n",
              "      <td>...</td>\n",
              "    </tr>\n",
              "    <tr>\n",
              "      <th>3258</th>\n",
              "      <td>10861</td>\n",
              "      <td>0</td>\n",
              "    </tr>\n",
              "    <tr>\n",
              "      <th>3259</th>\n",
              "      <td>10865</td>\n",
              "      <td>0</td>\n",
              "    </tr>\n",
              "    <tr>\n",
              "      <th>3260</th>\n",
              "      <td>10868</td>\n",
              "      <td>0</td>\n",
              "    </tr>\n",
              "    <tr>\n",
              "      <th>3261</th>\n",
              "      <td>10874</td>\n",
              "      <td>0</td>\n",
              "    </tr>\n",
              "    <tr>\n",
              "      <th>3262</th>\n",
              "      <td>10875</td>\n",
              "      <td>0</td>\n",
              "    </tr>\n",
              "  </tbody>\n",
              "</table>\n",
              "<p>3263 rows × 2 columns</p>\n",
              "</div>"
            ],
            "text/plain": [
              "         id  target\n",
              "0         0       1\n",
              "1         2       1\n",
              "2         3       1\n",
              "3         9       1\n",
              "4        11       1\n",
              "...     ...     ...\n",
              "3258  10861       0\n",
              "3259  10865       0\n",
              "3260  10868       0\n",
              "3261  10874       0\n",
              "3262  10875       0\n",
              "\n",
              "[3263 rows x 2 columns]"
            ]
          },
          "metadata": {
            "tags": []
          }
        }
      ]
    },
    {
      "cell_type": "markdown",
      "metadata": {
        "id": "PmZB5myCZh9u"
      },
      "source": [
        "結果は0.51だった。つまり、sample submittionも方が成績が良いということになった"
      ]
    },
    {
      "cell_type": "markdown",
      "metadata": {
        "id": "D_kRx870Zx3s"
      },
      "source": [
        "## 原因分析\n",
        "\n",
        "なぜスコアが低いか分析する。\n",
        "1. 該当するメンション、ハッシュタグのものが少なくて、実質ランダム状態だった。\n",
        "2. ルールがよくなかった"
      ]
    },
    {
      "cell_type": "markdown",
      "metadata": {
        "id": "T_EAxGnraB9X"
      },
      "source": [
        "### 原因分析１ testでメンション、ハッシュタグで該当したものを数え上げる"
      ]
    },
    {
      "cell_type": "code",
      "metadata": {
        "colab": {
          "base_uri": "https://localhost:8080/"
        },
        "id": "nBz1hPehJ8Vy",
        "outputId": "714dc983-574a-4cf5-b2b8-507987fc1cfd"
      },
      "source": [
        "def rule1_count(text):\n",
        "    if any((hashtag in target_1_hashtag for hashtag in text_to_hashtags(text))):\n",
        "        return 1\n",
        "    if any((hashtag in target_0_hashtag for hashtag in text_to_hashtags(text))):\n",
        "        return 1\n",
        "    if any((mention in target_1_mention for mention in text_to_mentions(text))):\n",
        "        return 1\n",
        "    if any((mention in target_0_mention for mention in text_to_mentions(text))):\n",
        "        return 1\n",
        "    return 0\n",
        "\n",
        "test.text.apply(rule1_count).describe()\n"
      ],
      "execution_count": null,
      "outputs": [
        {
          "output_type": "execute_result",
          "data": {
            "text/plain": [
              "count    3263.000000\n",
              "mean        0.052712\n",
              "std         0.223493\n",
              "min         0.000000\n",
              "25%         0.000000\n",
              "50%         0.000000\n",
              "75%         0.000000\n",
              "max         1.000000\n",
              "Name: text, dtype: float64"
            ]
          },
          "metadata": {
            "tags": []
          },
          "execution_count": 438
        }
      ]
    },
    {
      "cell_type": "code",
      "metadata": {
        "colab": {
          "base_uri": "https://localhost:8080/"
        },
        "id": "8zwfNqqlcxkQ",
        "outputId": "4c5b0f29-f04f-4811-9150-e67d088b5fb2"
      },
      "source": [
        ""
      ],
      "execution_count": null,
      "outputs": [
        {
          "output_type": "execute_result",
          "data": {
            "text/plain": [
              "{'abstorm',\n",
              " 'accident',\n",
              " 'africa',\n",
              " 'antioch',\n",
              " 'bestnaijamade',\n",
              " 'breaking',\n",
              " 'disaster',\n",
              " 'earthquake',\n",
              " 'flood',\n",
              " 'fukushima',\n",
              " 'genocide',\n",
              " 'hailstorm',\n",
              " 'hiroshima',\n",
              " 'hostages',\n",
              " 'idfire',\n",
              " 'india',\n",
              " 'jap',\n",
              " 'japan',\n",
              " 'libya',\n",
              " 'manchester',\n",
              " 'mh370',\n",
              " 'mumbai',\n",
              " 'myanmar',\n",
              " 'newyork',\n",
              " 'okwx',\n",
              " 'rockyfire',\n",
              " 'rohingya',\n",
              " 'sandiego',\n",
              " 'science',\n",
              " 'sismo',\n",
              " 'sittwe',\n",
              " 'socialnews',\n",
              " 'terrorist',\n",
              " 'weather',\n",
              " 'wildfire',\n",
              " 'wildfires',\n",
              " 'worldnews',\n",
              " 'wx',\n",
              " 'yyc',\n",
              " 'zionist'}"
            ]
          },
          "metadata": {
            "tags": []
          },
          "execution_count": 435
        }
      ]
    },
    {
      "cell_type": "markdown",
      "metadata": {
        "id": "01LmWuQ8agzC"
      },
      "source": [
        "該当するものは±合わせて5%ほどだった。これではほとんど乱数になってしまっている。"
      ]
    },
    {
      "cell_type": "markdown",
      "metadata": {
        "id": "Lw5BoFbKaq1P"
      },
      "source": [
        "## 分析1.1\n",
        "\n",
        "もう少したくさんのものが該当するようにする"
      ]
    },
    {
      "cell_type": "code",
      "metadata": {
        "id": "vlvRa9_sMOO9"
      },
      "source": [
        "def make_target_hashtag(threshold):\n",
        "    target_1_hashtag = set()\n",
        "    target_0_hashtag = set()\n",
        "\n",
        "    for hashtag in uniq_hashtag:\n",
        "        _temp = train[text_hashtags.apply(lambda x: hashtag in x)]\n",
        "        if len(_temp) < 4:\n",
        "            continue\n",
        "        score = (_temp.target.mean() - 0.5) * 2\n",
        "        if score >= threshold:\n",
        "            target_1_hashtag.add(hashtag)\n",
        "        if score <= -threshold:\n",
        "            target_0_hashtag.add(hashtag)\n",
        "    return target_1_hashtag, target_0_hashtag\n",
        "\n",
        "def make_target_mention(threshold):\n",
        "    target_1_mention = set()\n",
        "    target_0_mention = set()\n",
        "\n",
        "    for mention in uniq_mention:\n",
        "        _temp = train[text_mentions.apply(lambda x: mention in x)]\n",
        "        if len(_temp) < 2:\n",
        "            continue\n",
        "        score = (_temp.target.mean() - 0.5) * 2\n",
        "        if score >= threshold:\n",
        "            target_1_mention.add(mention)\n",
        "        if score <= -threshold:\n",
        "            target_0_mention.add(mention)\n",
        "    return target_1_mention, target_0_mention\n",
        "\n",
        "target_1_1_hashtag, target_0_1_hashtag = make_target_hashtag(0.05)\n",
        "target_1_1_mention, target_0_1_mention = make_target_mention(0.05)"
      ],
      "execution_count": null,
      "outputs": []
    },
    {
      "cell_type": "code",
      "metadata": {
        "colab": {
          "base_uri": "https://localhost:8080/"
        },
        "id": "J3aHc7NKO7pg",
        "outputId": "12a5972d-d6a6-4c9c-a22d-02f51ec1b1df"
      },
      "source": [
        "def rule1_count_1(text):\n",
        "    if any((hashtag in target_1_1_hashtag for hashtag in text_to_hashtags(text))):\n",
        "        return 1\n",
        "    if any((hashtag in target_0_1_hashtag for hashtag in text_to_hashtags(text))):\n",
        "        return 1\n",
        "    if any((mention in target_1_1_mention for mention in text_to_mentions(text))):\n",
        "        return 1\n",
        "    if any((mention in target_0_1_mention for mention in text_to_mentions(text))):\n",
        "        return 1\n",
        "    return 0\n",
        "\n",
        "test.text.apply(rule1_count_1).describe()"
      ],
      "execution_count": null,
      "outputs": [
        {
          "output_type": "execute_result",
          "data": {
            "text/plain": [
              "count    3263.000000\n",
              "mean        0.114618\n",
              "std         0.318610\n",
              "min         0.000000\n",
              "25%         0.000000\n",
              "50%         0.000000\n",
              "75%         0.000000\n",
              "max         1.000000\n",
              "Name: text, dtype: float64"
            ]
          },
          "metadata": {
            "tags": []
          },
          "execution_count": 456
        }
      ]
    },
    {
      "cell_type": "code",
      "metadata": {
        "colab": {
          "base_uri": "https://localhost:8080/"
        },
        "id": "disWZsUUJ-iU",
        "outputId": "9c5cc768-701f-409f-c3f1-158342ef351c"
      },
      "source": [
        "len(test[(test.text.apply(text_to_hashtags).apply(len) > 0) | (test.text.apply(text_to_mentions).apply(len) > 0)])"
      ],
      "execution_count": null,
      "outputs": [
        {
          "output_type": "execute_result",
          "data": {
            "text/plain": [
              "1549"
            ]
          },
          "metadata": {
            "tags": []
          },
          "execution_count": 447
        }
      ]
    },
    {
      "cell_type": "code",
      "metadata": {
        "colab": {
          "base_uri": "https://localhost:8080/"
        },
        "id": "_zH_sV5NV3hv",
        "outputId": "097bcdd5-5773-4851-ffab-33962b2fb588"
      },
      "source": [
        "len(test)"
      ],
      "execution_count": null,
      "outputs": [
        {
          "output_type": "execute_result",
          "data": {
            "text/plain": [
              "3263"
            ]
          },
          "metadata": {
            "tags": []
          },
          "execution_count": 448
        }
      ]
    },
    {
      "cell_type": "code",
      "metadata": {
        "colab": {
          "base_uri": "https://localhost:8080/",
          "height": 289
        },
        "id": "eHjYBopLQKio",
        "outputId": "5c65ceb8-f16e-48d9-b808-edef7b77347f"
      },
      "source": [
        "train[text_mentions.apply(lambda x: 'USAgov' in x)]"
      ],
      "execution_count": null,
      "outputs": [
        {
          "output_type": "execute_result",
          "data": {
            "text/html": [
              "<div>\n",
              "<style scoped>\n",
              "    .dataframe tbody tr th:only-of-type {\n",
              "        vertical-align: middle;\n",
              "    }\n",
              "\n",
              "    .dataframe tbody tr th {\n",
              "        vertical-align: top;\n",
              "    }\n",
              "\n",
              "    .dataframe thead th {\n",
              "        text-align: right;\n",
              "    }\n",
              "</style>\n",
              "<table border=\"1\" class=\"dataframe\">\n",
              "  <thead>\n",
              "    <tr style=\"text-align: right;\">\n",
              "      <th></th>\n",
              "      <th>id</th>\n",
              "      <th>keyword</th>\n",
              "      <th>location</th>\n",
              "      <th>text</th>\n",
              "      <th>target</th>\n",
              "    </tr>\n",
              "  </thead>\n",
              "  <tbody>\n",
              "    <tr>\n",
              "      <th>614</th>\n",
              "      <td>885</td>\n",
              "      <td>bioterrorism</td>\n",
              "      <td>NaN</td>\n",
              "      <td>@CAgov If 90BLKs&amp;amp;8WHTs colluded 2 take WHT...</td>\n",
              "      <td>1</td>\n",
              "    </tr>\n",
              "    <tr>\n",
              "      <th>628</th>\n",
              "      <td>905</td>\n",
              "      <td>bioterrorism</td>\n",
              "      <td>NaN</td>\n",
              "      <td>@StationCDRKelly Any Support Sys 4 @USAgov AUT...</td>\n",
              "      <td>1</td>\n",
              "    </tr>\n",
              "    <tr>\n",
              "      <th>633</th>\n",
              "      <td>915</td>\n",
              "      <td>bioterrorism</td>\n",
              "      <td>NaN</td>\n",
              "      <td>@HowardU If 90BLKs&amp;amp;8WHTs colluded 2 take W...</td>\n",
              "      <td>1</td>\n",
              "    </tr>\n",
              "    <tr>\n",
              "      <th>635</th>\n",
              "      <td>919</td>\n",
              "      <td>bioterrorism</td>\n",
              "      <td>NaN</td>\n",
              "      <td>@cspanwj If 90BLKs&amp;amp;8WHTs colluded 2 take W...</td>\n",
              "      <td>1</td>\n",
              "    </tr>\n",
              "    <tr>\n",
              "      <th>4409</th>\n",
              "      <td>6268</td>\n",
              "      <td>hijacking</td>\n",
              "      <td>NaN</td>\n",
              "      <td>@USAgov Koreans are performing hijacking of th...</td>\n",
              "      <td>1</td>\n",
              "    </tr>\n",
              "  </tbody>\n",
              "</table>\n",
              "</div>"
            ],
            "text/plain": [
              "        id  ... target\n",
              "614    885  ...      1\n",
              "628    905  ...      1\n",
              "633    915  ...      1\n",
              "635    919  ...      1\n",
              "4409  6268  ...      1\n",
              "\n",
              "[5 rows x 5 columns]"
            ]
          },
          "metadata": {
            "tags": []
          },
          "execution_count": 393
        }
      ]
    },
    {
      "cell_type": "code",
      "metadata": {
        "colab": {
          "base_uri": "https://localhost:8080/"
        },
        "id": "lwWnM_V1QoEJ",
        "outputId": "e22ebf05-e48a-40cb-a3d0-66c4d07d0cc0"
      },
      "source": [
        "hashtag_target_map = {\n",
        "    'science', 'bbc', 'bestnaijamade', 'earthquake', 'india', 'hailstorm', 'myanmar', 'worldnews',\n",
        "    'antioch', 'africa', 'disaster'\n",
        "}"
      ],
      "execution_count": null,
      "outputs": [
        {
          "output_type": "execute_result",
          "data": {
            "text/plain": [
              "0                                       [earthquake]\n",
              "3                                        [wildfires]\n",
              "4                                [alaska, wildfires]\n",
              "5                     [rockyfire, cafire, wildfires]\n",
              "6                                  [flood, disaster]\n",
              "11                                        [flooding]\n",
              "12     [raining, flooding, florida, tampabay, tampa]\n",
              "13                                       [flood, we]\n",
              "14                                        [breaking]\n",
              "32                                       [metal, rt]\n",
              "33                                     [africanbaze]\n",
              "36                                            [mufc]\n",
              "38                                      [bridgetown]\n",
              "40                                            [nsfw]\n",
              "48                                            [nsfw]\n",
              "55                                   [kurds, diyala]\n",
              "59                     [california, climate, energy]\n",
              "64                                 [nowplaying, edm]\n",
              "68                                [nashvilletraffic]\n",
              "69                    [santaclara, bayarea, traffic]\n",
              "70            [personalinjury, solicitor, otleyhour]\n",
              "71                      [stlouis, caraccidentlawyer]\n",
              "83                           [truckcrash, fortworth]\n",
              "84                               [ashville, traffic]\n",
              "88                             [manchester, traffic]\n",
              "97                      [breaking, hagerstown, whag]\n",
              "100                                        [bahrain]\n",
              "101                             [arrestpastornganga]\n",
              "104      [dubstep, trapmusic, dnb, edm, dance, ices]\n",
              "106      [dubstep, trapmusic, dnb, edm, dance, ices]\n",
              "Name: text, dtype: object"
            ]
          },
          "metadata": {
            "tags": []
          },
          "execution_count": 337
        }
      ]
    },
    {
      "cell_type": "code",
      "metadata": {
        "id": "DEn8vK07Qpmc"
      },
      "source": [
        ""
      ],
      "execution_count": null,
      "outputs": []
    }
  ]
}